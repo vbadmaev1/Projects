{
 "cells": [
  {
   "cell_type": "markdown",
   "metadata": {
    "id": "TK7oX5qdEEYr"
   },
   "source": [
    "# Домашнее задание. Решение конкурса на kaggle.com\n",
    "\n",
    "Это домашнее задание посвящено полноценному решению задачи машинного обучения."
   ]
  },
  {
   "cell_type": "markdown",
   "metadata": {},
   "source": [
    "# Первая часть. Исследование"
   ]
  },
  {
   "cell_type": "code",
   "execution_count": 3,
   "metadata": {
    "execution": {
     "iopub.execute_input": "2023-03-25T14:12:49.116550Z",
     "iopub.status.busy": "2023-03-25T14:12:49.116093Z",
     "iopub.status.idle": "2023-03-25T14:12:49.122862Z",
     "shell.execute_reply": "2023-03-25T14:12:49.121360Z",
     "shell.execute_reply.started": "2023-03-25T14:12:49.116498Z"
    },
    "id": "lzLqEeZKEEYz"
   },
   "outputs": [],
   "source": [
    "import pandas as pd\n",
    "import numpy as np\n",
    "from matplotlib import pyplot as plt"
   ]
  },
  {
   "cell_type": "markdown",
   "metadata": {
    "id": "LOlxdURSEEY3"
   },
   "source": [
    "# Загрузка данных (2 балла)\n",
    "\n",
    "1) Посмотрите на случайные строчки. \n",
    "\n",
    "2) Посмотрите, есть ли в датасете незаполненные значения (nan'ы) с помощью data.isna() или data.info() и, если нужно, замените их на что-то. Будет хорошо, если вы построите табличку с количеством nan в каждой колонке."
   ]
  },
  {
   "cell_type": "code",
   "execution_count": 5,
   "metadata": {
    "execution": {
     "iopub.execute_input": "2023-03-25T14:13:20.914836Z",
     "iopub.status.busy": "2023-03-25T14:13:20.913976Z",
     "iopub.status.idle": "2023-03-25T14:13:20.922066Z",
     "shell.execute_reply": "2023-03-25T14:13:20.920562Z",
     "shell.execute_reply.started": "2023-03-25T14:13:20.914743Z"
    },
    "id": "XULA1f3ch6RL",
    "outputId": "07761740-6213-47fd-a3d1-b68a5a421b60"
   },
   "outputs": [],
   "source": [
    "#!gdown 1ERwQ5odiK1Zvi1LtjpkzCMUswYsAX8_K  # train.csv\n",
    "#!gdown 1fGw_-RFwvn_LEdt91Jq-7A-wzG6mmH8r  # test.csv\n",
    "#!gdown 199Mt4OYZNaelT83U-HGDsEYs2YcUGQ6y  # submission.csv"
   ]
  },
  {
   "cell_type": "markdown",
   "metadata": {
    "id": "YQ-mH6RJF2Dz"
   },
   "source": [
    "Для начала загрузим выборки: 'train.csv', 'test.csv'"
   ]
  },
  {
   "cell_type": "code",
   "execution_count": 4,
   "metadata": {
    "execution": {
     "iopub.execute_input": "2023-03-25T14:13:41.996035Z",
     "iopub.status.busy": "2023-03-25T14:13:41.995644Z",
     "iopub.status.idle": "2023-03-25T14:13:42.074079Z",
     "shell.execute_reply": "2023-03-25T14:13:42.072791Z",
     "shell.execute_reply.started": "2023-03-25T14:13:41.996002Z"
    },
    "id": "pw-Brue9EEY3"
   },
   "outputs": [],
   "source": [
    "data_train = pd.read_csv('train.csv')\n",
    "data_test = pd.read_csv('test.csv')"
   ]
  },
  {
   "cell_type": "code",
   "execution_count": 7,
   "metadata": {
    "execution": {
     "iopub.execute_input": "2023-03-25T14:13:47.663714Z",
     "iopub.status.busy": "2023-03-25T14:13:47.663291Z",
     "iopub.status.idle": "2023-03-25T14:13:47.670375Z",
     "shell.execute_reply": "2023-03-25T14:13:47.669209Z",
     "shell.execute_reply.started": "2023-03-25T14:13:47.663677Z"
    },
    "id": "KgnkkF5bEEY9"
   },
   "outputs": [],
   "source": [
    "# Для вашего удобства списки с именами разных колонок\n",
    "\n",
    "# Числовые признаки\n",
    "num_cols = [\n",
    "    'ClientPeriod',\n",
    "    'MonthlySpending',\n",
    "    'TotalSpent'\n",
    "]\n",
    "\n",
    "# Категориальные признаки\n",
    "cat_cols = [\n",
    "    'Sex',\n",
    "    'IsSeniorCitizen',\n",
    "    'HasPartner',\n",
    "    'HasChild',\n",
    "    'HasPhoneService',\n",
    "    'HasMultiplePhoneNumbers',\n",
    "    'HasInternetService',\n",
    "    'HasOnlineSecurityService',\n",
    "    'HasOnlineBackup',\n",
    "    'HasDeviceProtection',\n",
    "    'HasTechSupportAccess',\n",
    "    'HasOnlineTV',\n",
    "    'HasMovieSubscription',\n",
    "    'HasContractPhone',\n",
    "    'IsBillingPaperless',\n",
    "    'PaymentMethod'\n",
    "]\n",
    "\n",
    "feature_cols = num_cols + cat_cols\n",
    "target_col = 'Churn'"
   ]
  },
  {
   "cell_type": "markdown",
   "metadata": {
    "id": "mWU3_IozGR0R"
   },
   "source": [
    "# Первичный анализ данных"
   ]
  },
  {
   "cell_type": "markdown",
   "metadata": {
    "id": "pPyPA8j7IPx6"
   },
   "source": [
    "Посмотрим на наши данные, возьмем любые 10 строк"
   ]
  },
  {
   "cell_type": "code",
   "execution_count": 5,
   "metadata": {
    "execution": {
     "iopub.execute_input": "2023-03-25T14:13:52.848749Z",
     "iopub.status.busy": "2023-03-25T14:13:52.848221Z",
     "iopub.status.idle": "2023-03-25T14:13:52.899584Z",
     "shell.execute_reply": "2023-03-25T14:13:52.898306Z",
     "shell.execute_reply.started": "2023-03-25T14:13:52.848699Z"
    },
    "id": "tHC6gWabEEZA",
    "outputId": "1091624e-9124-4527-d624-3be32a1fae2d"
   },
   "outputs": [
    {
     "data": {
      "text/html": [
       "<div>\n",
       "<style scoped>\n",
       "    .dataframe tbody tr th:only-of-type {\n",
       "        vertical-align: middle;\n",
       "    }\n",
       "\n",
       "    .dataframe tbody tr th {\n",
       "        vertical-align: top;\n",
       "    }\n",
       "\n",
       "    .dataframe thead th {\n",
       "        text-align: right;\n",
       "    }\n",
       "</style>\n",
       "<table border=\"1\" class=\"dataframe\">\n",
       "  <thead>\n",
       "    <tr style=\"text-align: right;\">\n",
       "      <th></th>\n",
       "      <th>ClientPeriod</th>\n",
       "      <th>MonthlySpending</th>\n",
       "      <th>TotalSpent</th>\n",
       "      <th>Sex</th>\n",
       "      <th>IsSeniorCitizen</th>\n",
       "      <th>HasPartner</th>\n",
       "      <th>HasChild</th>\n",
       "      <th>HasPhoneService</th>\n",
       "      <th>HasMultiplePhoneNumbers</th>\n",
       "      <th>HasInternetService</th>\n",
       "      <th>HasOnlineSecurityService</th>\n",
       "      <th>HasOnlineBackup</th>\n",
       "      <th>HasDeviceProtection</th>\n",
       "      <th>HasTechSupportAccess</th>\n",
       "      <th>HasOnlineTV</th>\n",
       "      <th>HasMovieSubscription</th>\n",
       "      <th>HasContractPhone</th>\n",
       "      <th>IsBillingPaperless</th>\n",
       "      <th>PaymentMethod</th>\n",
       "      <th>Churn</th>\n",
       "    </tr>\n",
       "  </thead>\n",
       "  <tbody>\n",
       "    <tr>\n",
       "      <th>3871</th>\n",
       "      <td>9</td>\n",
       "      <td>65.60</td>\n",
       "      <td>593.3</td>\n",
       "      <td>Female</td>\n",
       "      <td>0</td>\n",
       "      <td>Yes</td>\n",
       "      <td>Yes</td>\n",
       "      <td>Yes</td>\n",
       "      <td>No</td>\n",
       "      <td>DSL</td>\n",
       "      <td>No</td>\n",
       "      <td>Yes</td>\n",
       "      <td>No</td>\n",
       "      <td>Yes</td>\n",
       "      <td>Yes</td>\n",
       "      <td>No</td>\n",
       "      <td>One year</td>\n",
       "      <td>Yes</td>\n",
       "      <td>Mailed check</td>\n",
       "      <td>0</td>\n",
       "    </tr>\n",
       "    <tr>\n",
       "      <th>3010</th>\n",
       "      <td>31</td>\n",
       "      <td>20.45</td>\n",
       "      <td>638.55</td>\n",
       "      <td>Male</td>\n",
       "      <td>0</td>\n",
       "      <td>No</td>\n",
       "      <td>No</td>\n",
       "      <td>Yes</td>\n",
       "      <td>No</td>\n",
       "      <td>No</td>\n",
       "      <td>No internet service</td>\n",
       "      <td>No internet service</td>\n",
       "      <td>No internet service</td>\n",
       "      <td>No internet service</td>\n",
       "      <td>No internet service</td>\n",
       "      <td>No internet service</td>\n",
       "      <td>Two year</td>\n",
       "      <td>No</td>\n",
       "      <td>Mailed check</td>\n",
       "      <td>0</td>\n",
       "    </tr>\n",
       "    <tr>\n",
       "      <th>4173</th>\n",
       "      <td>72</td>\n",
       "      <td>66.50</td>\n",
       "      <td>4811.6</td>\n",
       "      <td>Male</td>\n",
       "      <td>0</td>\n",
       "      <td>Yes</td>\n",
       "      <td>Yes</td>\n",
       "      <td>Yes</td>\n",
       "      <td>Yes</td>\n",
       "      <td>DSL</td>\n",
       "      <td>Yes</td>\n",
       "      <td>No</td>\n",
       "      <td>Yes</td>\n",
       "      <td>Yes</td>\n",
       "      <td>No</td>\n",
       "      <td>No</td>\n",
       "      <td>Two year</td>\n",
       "      <td>Yes</td>\n",
       "      <td>Credit card (automatic)</td>\n",
       "      <td>0</td>\n",
       "    </tr>\n",
       "    <tr>\n",
       "      <th>350</th>\n",
       "      <td>31</td>\n",
       "      <td>71.05</td>\n",
       "      <td>2168.15</td>\n",
       "      <td>Male</td>\n",
       "      <td>0</td>\n",
       "      <td>No</td>\n",
       "      <td>No</td>\n",
       "      <td>Yes</td>\n",
       "      <td>Yes</td>\n",
       "      <td>DSL</td>\n",
       "      <td>No</td>\n",
       "      <td>Yes</td>\n",
       "      <td>No</td>\n",
       "      <td>Yes</td>\n",
       "      <td>Yes</td>\n",
       "      <td>No</td>\n",
       "      <td>Month-to-month</td>\n",
       "      <td>Yes</td>\n",
       "      <td>Electronic check</td>\n",
       "      <td>0</td>\n",
       "    </tr>\n",
       "    <tr>\n",
       "      <th>1058</th>\n",
       "      <td>32</td>\n",
       "      <td>87.65</td>\n",
       "      <td>2766.4</td>\n",
       "      <td>Male</td>\n",
       "      <td>0</td>\n",
       "      <td>No</td>\n",
       "      <td>No</td>\n",
       "      <td>Yes</td>\n",
       "      <td>Yes</td>\n",
       "      <td>Fiber optic</td>\n",
       "      <td>Yes</td>\n",
       "      <td>No</td>\n",
       "      <td>No</td>\n",
       "      <td>Yes</td>\n",
       "      <td>No</td>\n",
       "      <td>No</td>\n",
       "      <td>Month-to-month</td>\n",
       "      <td>No</td>\n",
       "      <td>Bank transfer (automatic)</td>\n",
       "      <td>0</td>\n",
       "    </tr>\n",
       "    <tr>\n",
       "      <th>2412</th>\n",
       "      <td>40</td>\n",
       "      <td>63.90</td>\n",
       "      <td>2635</td>\n",
       "      <td>Female</td>\n",
       "      <td>0</td>\n",
       "      <td>Yes</td>\n",
       "      <td>No</td>\n",
       "      <td>Yes</td>\n",
       "      <td>Yes</td>\n",
       "      <td>DSL</td>\n",
       "      <td>No</td>\n",
       "      <td>Yes</td>\n",
       "      <td>No</td>\n",
       "      <td>No</td>\n",
       "      <td>Yes</td>\n",
       "      <td>No</td>\n",
       "      <td>One year</td>\n",
       "      <td>No</td>\n",
       "      <td>Bank transfer (automatic)</td>\n",
       "      <td>0</td>\n",
       "    </tr>\n",
       "    <tr>\n",
       "      <th>1949</th>\n",
       "      <td>53</td>\n",
       "      <td>80.60</td>\n",
       "      <td>4348.1</td>\n",
       "      <td>Male</td>\n",
       "      <td>0</td>\n",
       "      <td>No</td>\n",
       "      <td>No</td>\n",
       "      <td>Yes</td>\n",
       "      <td>No</td>\n",
       "      <td>Fiber optic</td>\n",
       "      <td>No</td>\n",
       "      <td>Yes</td>\n",
       "      <td>No</td>\n",
       "      <td>Yes</td>\n",
       "      <td>No</td>\n",
       "      <td>No</td>\n",
       "      <td>Month-to-month</td>\n",
       "      <td>Yes</td>\n",
       "      <td>Mailed check</td>\n",
       "      <td>0</td>\n",
       "    </tr>\n",
       "    <tr>\n",
       "      <th>1448</th>\n",
       "      <td>9</td>\n",
       "      <td>45.40</td>\n",
       "      <td>418.8</td>\n",
       "      <td>Male</td>\n",
       "      <td>0</td>\n",
       "      <td>No</td>\n",
       "      <td>No</td>\n",
       "      <td>No</td>\n",
       "      <td>No phone service</td>\n",
       "      <td>DSL</td>\n",
       "      <td>No</td>\n",
       "      <td>No</td>\n",
       "      <td>No</td>\n",
       "      <td>No</td>\n",
       "      <td>Yes</td>\n",
       "      <td>Yes</td>\n",
       "      <td>Month-to-month</td>\n",
       "      <td>Yes</td>\n",
       "      <td>Electronic check</td>\n",
       "      <td>1</td>\n",
       "    </tr>\n",
       "    <tr>\n",
       "      <th>4364</th>\n",
       "      <td>34</td>\n",
       "      <td>67.65</td>\n",
       "      <td>2339.3</td>\n",
       "      <td>Female</td>\n",
       "      <td>0</td>\n",
       "      <td>No</td>\n",
       "      <td>Yes</td>\n",
       "      <td>Yes</td>\n",
       "      <td>No</td>\n",
       "      <td>DSL</td>\n",
       "      <td>Yes</td>\n",
       "      <td>No</td>\n",
       "      <td>Yes</td>\n",
       "      <td>Yes</td>\n",
       "      <td>Yes</td>\n",
       "      <td>No</td>\n",
       "      <td>Two year</td>\n",
       "      <td>No</td>\n",
       "      <td>Credit card (automatic)</td>\n",
       "      <td>0</td>\n",
       "    </tr>\n",
       "    <tr>\n",
       "      <th>5193</th>\n",
       "      <td>7</td>\n",
       "      <td>59.50</td>\n",
       "      <td>415.95</td>\n",
       "      <td>Female</td>\n",
       "      <td>0</td>\n",
       "      <td>No</td>\n",
       "      <td>No</td>\n",
       "      <td>Yes</td>\n",
       "      <td>No</td>\n",
       "      <td>DSL</td>\n",
       "      <td>No</td>\n",
       "      <td>No</td>\n",
       "      <td>No</td>\n",
       "      <td>Yes</td>\n",
       "      <td>Yes</td>\n",
       "      <td>No</td>\n",
       "      <td>Month-to-month</td>\n",
       "      <td>Yes</td>\n",
       "      <td>Mailed check</td>\n",
       "      <td>1</td>\n",
       "    </tr>\n",
       "  </tbody>\n",
       "</table>\n",
       "</div>"
      ],
      "text/plain": [
       "      ClientPeriod  MonthlySpending TotalSpent     Sex  IsSeniorCitizen  \\\n",
       "3871             9            65.60      593.3  Female                0   \n",
       "3010            31            20.45     638.55    Male                0   \n",
       "4173            72            66.50     4811.6    Male                0   \n",
       "350             31            71.05    2168.15    Male                0   \n",
       "1058            32            87.65     2766.4    Male                0   \n",
       "2412            40            63.90       2635  Female                0   \n",
       "1949            53            80.60     4348.1    Male                0   \n",
       "1448             9            45.40      418.8    Male                0   \n",
       "4364            34            67.65     2339.3  Female                0   \n",
       "5193             7            59.50     415.95  Female                0   \n",
       "\n",
       "     HasPartner HasChild HasPhoneService HasMultiplePhoneNumbers  \\\n",
       "3871        Yes      Yes             Yes                      No   \n",
       "3010         No       No             Yes                      No   \n",
       "4173        Yes      Yes             Yes                     Yes   \n",
       "350          No       No             Yes                     Yes   \n",
       "1058         No       No             Yes                     Yes   \n",
       "2412        Yes       No             Yes                     Yes   \n",
       "1949         No       No             Yes                      No   \n",
       "1448         No       No              No        No phone service   \n",
       "4364         No      Yes             Yes                      No   \n",
       "5193         No       No             Yes                      No   \n",
       "\n",
       "     HasInternetService HasOnlineSecurityService      HasOnlineBackup  \\\n",
       "3871                DSL                       No                  Yes   \n",
       "3010                 No      No internet service  No internet service   \n",
       "4173                DSL                      Yes                   No   \n",
       "350                 DSL                       No                  Yes   \n",
       "1058        Fiber optic                      Yes                   No   \n",
       "2412                DSL                       No                  Yes   \n",
       "1949        Fiber optic                       No                  Yes   \n",
       "1448                DSL                       No                   No   \n",
       "4364                DSL                      Yes                   No   \n",
       "5193                DSL                       No                   No   \n",
       "\n",
       "      HasDeviceProtection HasTechSupportAccess          HasOnlineTV  \\\n",
       "3871                   No                  Yes                  Yes   \n",
       "3010  No internet service  No internet service  No internet service   \n",
       "4173                  Yes                  Yes                   No   \n",
       "350                    No                  Yes                  Yes   \n",
       "1058                   No                  Yes                   No   \n",
       "2412                   No                   No                  Yes   \n",
       "1949                   No                  Yes                   No   \n",
       "1448                   No                   No                  Yes   \n",
       "4364                  Yes                  Yes                  Yes   \n",
       "5193                   No                  Yes                  Yes   \n",
       "\n",
       "     HasMovieSubscription HasContractPhone IsBillingPaperless  \\\n",
       "3871                   No         One year                Yes   \n",
       "3010  No internet service         Two year                 No   \n",
       "4173                   No         Two year                Yes   \n",
       "350                    No   Month-to-month                Yes   \n",
       "1058                   No   Month-to-month                 No   \n",
       "2412                   No         One year                 No   \n",
       "1949                   No   Month-to-month                Yes   \n",
       "1448                  Yes   Month-to-month                Yes   \n",
       "4364                   No         Two year                 No   \n",
       "5193                   No   Month-to-month                Yes   \n",
       "\n",
       "                  PaymentMethod  Churn  \n",
       "3871               Mailed check      0  \n",
       "3010               Mailed check      0  \n",
       "4173    Credit card (automatic)      0  \n",
       "350            Electronic check      0  \n",
       "1058  Bank transfer (automatic)      0  \n",
       "2412  Bank transfer (automatic)      0  \n",
       "1949               Mailed check      0  \n",
       "1448           Electronic check      1  \n",
       "4364    Credit card (automatic)      0  \n",
       "5193               Mailed check      1  "
      ]
     },
     "metadata": {},
     "output_type": "display_data"
    },
    {
     "data": {
      "text/plain": [
       "(5282, 20)"
      ]
     },
     "execution_count": 5,
     "metadata": {},
     "output_type": "execute_result"
    }
   ],
   "source": [
    "display(data_train.sample(10))\n",
    "data_train.shape"
   ]
  },
  {
   "cell_type": "code",
   "execution_count": 6,
   "metadata": {
    "id": "1HvNcJRVG6M1",
    "outputId": "3ca1d3c2-4c66-4162-ae68-d5bdacb6c3c3"
   },
   "outputs": [
    {
     "name": "stdout",
     "output_type": "stream",
     "text": [
      "<class 'pandas.core.frame.DataFrame'>\n",
      "RangeIndex: 5282 entries, 0 to 5281\n",
      "Data columns (total 20 columns):\n",
      " #   Column                    Non-Null Count  Dtype  \n",
      "---  ------                    --------------  -----  \n",
      " 0   ClientPeriod              5282 non-null   int64  \n",
      " 1   MonthlySpending           5282 non-null   float64\n",
      " 2   TotalSpent                5282 non-null   object \n",
      " 3   Sex                       5282 non-null   object \n",
      " 4   IsSeniorCitizen           5282 non-null   int64  \n",
      " 5   HasPartner                5282 non-null   object \n",
      " 6   HasChild                  5282 non-null   object \n",
      " 7   HasPhoneService           5282 non-null   object \n",
      " 8   HasMultiplePhoneNumbers   5282 non-null   object \n",
      " 9   HasInternetService        5282 non-null   object \n",
      " 10  HasOnlineSecurityService  5282 non-null   object \n",
      " 11  HasOnlineBackup           5282 non-null   object \n",
      " 12  HasDeviceProtection       5282 non-null   object \n",
      " 13  HasTechSupportAccess      5282 non-null   object \n",
      " 14  HasOnlineTV               5282 non-null   object \n",
      " 15  HasMovieSubscription      5282 non-null   object \n",
      " 16  HasContractPhone          5282 non-null   object \n",
      " 17  IsBillingPaperless        5282 non-null   object \n",
      " 18  PaymentMethod             5282 non-null   object \n",
      " 19  Churn                     5282 non-null   int64  \n",
      "dtypes: float64(1), int64(3), object(16)\n",
      "memory usage: 825.4+ KB\n"
     ]
    }
   ],
   "source": [
    "data_train.info()"
   ]
  },
  {
   "cell_type": "code",
   "execution_count": 7,
   "metadata": {
    "id": "4PZf99s0HlKz",
    "outputId": "b9262e34-23ec-4654-af80-0c179f546ab9"
   },
   "outputs": [
    {
     "data": {
      "text/plain": [
       "ClientPeriod                0\n",
       "MonthlySpending             0\n",
       "TotalSpent                  0\n",
       "Sex                         0\n",
       "IsSeniorCitizen             0\n",
       "HasPartner                  0\n",
       "HasChild                    0\n",
       "HasPhoneService             0\n",
       "HasMultiplePhoneNumbers     0\n",
       "HasInternetService          0\n",
       "HasOnlineSecurityService    0\n",
       "HasOnlineBackup             0\n",
       "HasDeviceProtection         0\n",
       "HasTechSupportAccess        0\n",
       "HasOnlineTV                 0\n",
       "HasMovieSubscription        0\n",
       "HasContractPhone            0\n",
       "IsBillingPaperless          0\n",
       "PaymentMethod               0\n",
       "Churn                       0\n",
       "dtype: int64"
      ]
     },
     "execution_count": 7,
     "metadata": {},
     "output_type": "execute_result"
    }
   ],
   "source": [
    "data_train.isna().sum()"
   ]
  },
  {
   "cell_type": "markdown",
   "metadata": {
    "id": "AhuzdgsdIAzr"
   },
   "source": [
    "Пропусков не обнаружено"
   ]
  },
  {
   "cell_type": "code",
   "execution_count": 8,
   "metadata": {
    "id": "HaN0HJNpHV9Y",
    "outputId": "8c26c891-9cea-4d82-ba17-4d7a532a0a7a"
   },
   "outputs": [
    {
     "data": {
      "text/html": [
       "<div>\n",
       "<style scoped>\n",
       "    .dataframe tbody tr th:only-of-type {\n",
       "        vertical-align: middle;\n",
       "    }\n",
       "\n",
       "    .dataframe tbody tr th {\n",
       "        vertical-align: top;\n",
       "    }\n",
       "\n",
       "    .dataframe thead th {\n",
       "        text-align: right;\n",
       "    }\n",
       "</style>\n",
       "<table border=\"1\" class=\"dataframe\">\n",
       "  <thead>\n",
       "    <tr style=\"text-align: right;\">\n",
       "      <th></th>\n",
       "      <th>ClientPeriod</th>\n",
       "      <th>MonthlySpending</th>\n",
       "      <th>TotalSpent</th>\n",
       "      <th>Sex</th>\n",
       "      <th>IsSeniorCitizen</th>\n",
       "      <th>HasPartner</th>\n",
       "      <th>HasChild</th>\n",
       "      <th>HasPhoneService</th>\n",
       "      <th>HasMultiplePhoneNumbers</th>\n",
       "      <th>HasInternetService</th>\n",
       "      <th>HasOnlineSecurityService</th>\n",
       "      <th>HasOnlineBackup</th>\n",
       "      <th>HasDeviceProtection</th>\n",
       "      <th>HasTechSupportAccess</th>\n",
       "      <th>HasOnlineTV</th>\n",
       "      <th>HasMovieSubscription</th>\n",
       "      <th>HasContractPhone</th>\n",
       "      <th>IsBillingPaperless</th>\n",
       "      <th>PaymentMethod</th>\n",
       "      <th>Churn</th>\n",
       "    </tr>\n",
       "  </thead>\n",
       "  <tbody>\n",
       "    <tr>\n",
       "      <th>count</th>\n",
       "      <td>5282.000000</td>\n",
       "      <td>5282.000000</td>\n",
       "      <td>5282</td>\n",
       "      <td>5282</td>\n",
       "      <td>5282.000000</td>\n",
       "      <td>5282</td>\n",
       "      <td>5282</td>\n",
       "      <td>5282</td>\n",
       "      <td>5282</td>\n",
       "      <td>5282</td>\n",
       "      <td>5282</td>\n",
       "      <td>5282</td>\n",
       "      <td>5282</td>\n",
       "      <td>5282</td>\n",
       "      <td>5282</td>\n",
       "      <td>5282</td>\n",
       "      <td>5282</td>\n",
       "      <td>5282</td>\n",
       "      <td>5282</td>\n",
       "      <td>5282.000000</td>\n",
       "    </tr>\n",
       "    <tr>\n",
       "      <th>unique</th>\n",
       "      <td>NaN</td>\n",
       "      <td>NaN</td>\n",
       "      <td>4978</td>\n",
       "      <td>2</td>\n",
       "      <td>NaN</td>\n",
       "      <td>2</td>\n",
       "      <td>2</td>\n",
       "      <td>2</td>\n",
       "      <td>3</td>\n",
       "      <td>3</td>\n",
       "      <td>3</td>\n",
       "      <td>3</td>\n",
       "      <td>3</td>\n",
       "      <td>3</td>\n",
       "      <td>3</td>\n",
       "      <td>3</td>\n",
       "      <td>3</td>\n",
       "      <td>2</td>\n",
       "      <td>4</td>\n",
       "      <td>NaN</td>\n",
       "    </tr>\n",
       "    <tr>\n",
       "      <th>top</th>\n",
       "      <td>NaN</td>\n",
       "      <td>NaN</td>\n",
       "      <td></td>\n",
       "      <td>Male</td>\n",
       "      <td>NaN</td>\n",
       "      <td>No</td>\n",
       "      <td>No</td>\n",
       "      <td>Yes</td>\n",
       "      <td>No</td>\n",
       "      <td>Fiber optic</td>\n",
       "      <td>No</td>\n",
       "      <td>No</td>\n",
       "      <td>No</td>\n",
       "      <td>No</td>\n",
       "      <td>No</td>\n",
       "      <td>No</td>\n",
       "      <td>Month-to-month</td>\n",
       "      <td>Yes</td>\n",
       "      <td>Electronic check</td>\n",
       "      <td>NaN</td>\n",
       "    </tr>\n",
       "    <tr>\n",
       "      <th>freq</th>\n",
       "      <td>NaN</td>\n",
       "      <td>NaN</td>\n",
       "      <td>9</td>\n",
       "      <td>2655</td>\n",
       "      <td>NaN</td>\n",
       "      <td>2705</td>\n",
       "      <td>3676</td>\n",
       "      <td>4761</td>\n",
       "      <td>2511</td>\n",
       "      <td>2341</td>\n",
       "      <td>2612</td>\n",
       "      <td>2332</td>\n",
       "      <td>2317</td>\n",
       "      <td>2604</td>\n",
       "      <td>2099</td>\n",
       "      <td>2081</td>\n",
       "      <td>2920</td>\n",
       "      <td>3148</td>\n",
       "      <td>1786</td>\n",
       "      <td>NaN</td>\n",
       "    </tr>\n",
       "    <tr>\n",
       "      <th>mean</th>\n",
       "      <td>32.397009</td>\n",
       "      <td>64.924754</td>\n",
       "      <td>NaN</td>\n",
       "      <td>NaN</td>\n",
       "      <td>0.159409</td>\n",
       "      <td>NaN</td>\n",
       "      <td>NaN</td>\n",
       "      <td>NaN</td>\n",
       "      <td>NaN</td>\n",
       "      <td>NaN</td>\n",
       "      <td>NaN</td>\n",
       "      <td>NaN</td>\n",
       "      <td>NaN</td>\n",
       "      <td>NaN</td>\n",
       "      <td>NaN</td>\n",
       "      <td>NaN</td>\n",
       "      <td>NaN</td>\n",
       "      <td>NaN</td>\n",
       "      <td>NaN</td>\n",
       "      <td>0.262022</td>\n",
       "    </tr>\n",
       "    <tr>\n",
       "      <th>std</th>\n",
       "      <td>24.550326</td>\n",
       "      <td>30.176464</td>\n",
       "      <td>NaN</td>\n",
       "      <td>NaN</td>\n",
       "      <td>0.366092</td>\n",
       "      <td>NaN</td>\n",
       "      <td>NaN</td>\n",
       "      <td>NaN</td>\n",
       "      <td>NaN</td>\n",
       "      <td>NaN</td>\n",
       "      <td>NaN</td>\n",
       "      <td>NaN</td>\n",
       "      <td>NaN</td>\n",
       "      <td>NaN</td>\n",
       "      <td>NaN</td>\n",
       "      <td>NaN</td>\n",
       "      <td>NaN</td>\n",
       "      <td>NaN</td>\n",
       "      <td>NaN</td>\n",
       "      <td>0.439776</td>\n",
       "    </tr>\n",
       "    <tr>\n",
       "      <th>min</th>\n",
       "      <td>0.000000</td>\n",
       "      <td>18.250000</td>\n",
       "      <td>NaN</td>\n",
       "      <td>NaN</td>\n",
       "      <td>0.000000</td>\n",
       "      <td>NaN</td>\n",
       "      <td>NaN</td>\n",
       "      <td>NaN</td>\n",
       "      <td>NaN</td>\n",
       "      <td>NaN</td>\n",
       "      <td>NaN</td>\n",
       "      <td>NaN</td>\n",
       "      <td>NaN</td>\n",
       "      <td>NaN</td>\n",
       "      <td>NaN</td>\n",
       "      <td>NaN</td>\n",
       "      <td>NaN</td>\n",
       "      <td>NaN</td>\n",
       "      <td>NaN</td>\n",
       "      <td>0.000000</td>\n",
       "    </tr>\n",
       "    <tr>\n",
       "      <th>25%</th>\n",
       "      <td>9.000000</td>\n",
       "      <td>35.462500</td>\n",
       "      <td>NaN</td>\n",
       "      <td>NaN</td>\n",
       "      <td>0.000000</td>\n",
       "      <td>NaN</td>\n",
       "      <td>NaN</td>\n",
       "      <td>NaN</td>\n",
       "      <td>NaN</td>\n",
       "      <td>NaN</td>\n",
       "      <td>NaN</td>\n",
       "      <td>NaN</td>\n",
       "      <td>NaN</td>\n",
       "      <td>NaN</td>\n",
       "      <td>NaN</td>\n",
       "      <td>NaN</td>\n",
       "      <td>NaN</td>\n",
       "      <td>NaN</td>\n",
       "      <td>NaN</td>\n",
       "      <td>0.000000</td>\n",
       "    </tr>\n",
       "    <tr>\n",
       "      <th>50%</th>\n",
       "      <td>29.000000</td>\n",
       "      <td>70.400000</td>\n",
       "      <td>NaN</td>\n",
       "      <td>NaN</td>\n",
       "      <td>0.000000</td>\n",
       "      <td>NaN</td>\n",
       "      <td>NaN</td>\n",
       "      <td>NaN</td>\n",
       "      <td>NaN</td>\n",
       "      <td>NaN</td>\n",
       "      <td>NaN</td>\n",
       "      <td>NaN</td>\n",
       "      <td>NaN</td>\n",
       "      <td>NaN</td>\n",
       "      <td>NaN</td>\n",
       "      <td>NaN</td>\n",
       "      <td>NaN</td>\n",
       "      <td>NaN</td>\n",
       "      <td>NaN</td>\n",
       "      <td>0.000000</td>\n",
       "    </tr>\n",
       "    <tr>\n",
       "      <th>75%</th>\n",
       "      <td>55.000000</td>\n",
       "      <td>90.050000</td>\n",
       "      <td>NaN</td>\n",
       "      <td>NaN</td>\n",
       "      <td>0.000000</td>\n",
       "      <td>NaN</td>\n",
       "      <td>NaN</td>\n",
       "      <td>NaN</td>\n",
       "      <td>NaN</td>\n",
       "      <td>NaN</td>\n",
       "      <td>NaN</td>\n",
       "      <td>NaN</td>\n",
       "      <td>NaN</td>\n",
       "      <td>NaN</td>\n",
       "      <td>NaN</td>\n",
       "      <td>NaN</td>\n",
       "      <td>NaN</td>\n",
       "      <td>NaN</td>\n",
       "      <td>NaN</td>\n",
       "      <td>1.000000</td>\n",
       "    </tr>\n",
       "    <tr>\n",
       "      <th>max</th>\n",
       "      <td>72.000000</td>\n",
       "      <td>118.750000</td>\n",
       "      <td>NaN</td>\n",
       "      <td>NaN</td>\n",
       "      <td>1.000000</td>\n",
       "      <td>NaN</td>\n",
       "      <td>NaN</td>\n",
       "      <td>NaN</td>\n",
       "      <td>NaN</td>\n",
       "      <td>NaN</td>\n",
       "      <td>NaN</td>\n",
       "      <td>NaN</td>\n",
       "      <td>NaN</td>\n",
       "      <td>NaN</td>\n",
       "      <td>NaN</td>\n",
       "      <td>NaN</td>\n",
       "      <td>NaN</td>\n",
       "      <td>NaN</td>\n",
       "      <td>NaN</td>\n",
       "      <td>1.000000</td>\n",
       "    </tr>\n",
       "  </tbody>\n",
       "</table>\n",
       "</div>"
      ],
      "text/plain": [
       "        ClientPeriod  MonthlySpending TotalSpent   Sex  IsSeniorCitizen  \\\n",
       "count    5282.000000      5282.000000       5282  5282      5282.000000   \n",
       "unique           NaN              NaN       4978     2              NaN   \n",
       "top              NaN              NaN             Male              NaN   \n",
       "freq             NaN              NaN          9  2655              NaN   \n",
       "mean       32.397009        64.924754        NaN   NaN         0.159409   \n",
       "std        24.550326        30.176464        NaN   NaN         0.366092   \n",
       "min         0.000000        18.250000        NaN   NaN         0.000000   \n",
       "25%         9.000000        35.462500        NaN   NaN         0.000000   \n",
       "50%        29.000000        70.400000        NaN   NaN         0.000000   \n",
       "75%        55.000000        90.050000        NaN   NaN         0.000000   \n",
       "max        72.000000       118.750000        NaN   NaN         1.000000   \n",
       "\n",
       "       HasPartner HasChild HasPhoneService HasMultiplePhoneNumbers  \\\n",
       "count        5282     5282            5282                    5282   \n",
       "unique          2        2               2                       3   \n",
       "top            No       No             Yes                      No   \n",
       "freq         2705     3676            4761                    2511   \n",
       "mean          NaN      NaN             NaN                     NaN   \n",
       "std           NaN      NaN             NaN                     NaN   \n",
       "min           NaN      NaN             NaN                     NaN   \n",
       "25%           NaN      NaN             NaN                     NaN   \n",
       "50%           NaN      NaN             NaN                     NaN   \n",
       "75%           NaN      NaN             NaN                     NaN   \n",
       "max           NaN      NaN             NaN                     NaN   \n",
       "\n",
       "       HasInternetService HasOnlineSecurityService HasOnlineBackup  \\\n",
       "count                5282                     5282            5282   \n",
       "unique                  3                        3               3   \n",
       "top           Fiber optic                       No              No   \n",
       "freq                 2341                     2612            2332   \n",
       "mean                  NaN                      NaN             NaN   \n",
       "std                   NaN                      NaN             NaN   \n",
       "min                   NaN                      NaN             NaN   \n",
       "25%                   NaN                      NaN             NaN   \n",
       "50%                   NaN                      NaN             NaN   \n",
       "75%                   NaN                      NaN             NaN   \n",
       "max                   NaN                      NaN             NaN   \n",
       "\n",
       "       HasDeviceProtection HasTechSupportAccess HasOnlineTV  \\\n",
       "count                 5282                 5282        5282   \n",
       "unique                   3                    3           3   \n",
       "top                     No                   No          No   \n",
       "freq                  2317                 2604        2099   \n",
       "mean                   NaN                  NaN         NaN   \n",
       "std                    NaN                  NaN         NaN   \n",
       "min                    NaN                  NaN         NaN   \n",
       "25%                    NaN                  NaN         NaN   \n",
       "50%                    NaN                  NaN         NaN   \n",
       "75%                    NaN                  NaN         NaN   \n",
       "max                    NaN                  NaN         NaN   \n",
       "\n",
       "       HasMovieSubscription HasContractPhone IsBillingPaperless  \\\n",
       "count                  5282             5282               5282   \n",
       "unique                    3                3                  2   \n",
       "top                      No   Month-to-month                Yes   \n",
       "freq                   2081             2920               3148   \n",
       "mean                    NaN              NaN                NaN   \n",
       "std                     NaN              NaN                NaN   \n",
       "min                     NaN              NaN                NaN   \n",
       "25%                     NaN              NaN                NaN   \n",
       "50%                     NaN              NaN                NaN   \n",
       "75%                     NaN              NaN                NaN   \n",
       "max                     NaN              NaN                NaN   \n",
       "\n",
       "           PaymentMethod        Churn  \n",
       "count               5282  5282.000000  \n",
       "unique                 4          NaN  \n",
       "top     Electronic check          NaN  \n",
       "freq                1786          NaN  \n",
       "mean                 NaN     0.262022  \n",
       "std                  NaN     0.439776  \n",
       "min                  NaN     0.000000  \n",
       "25%                  NaN     0.000000  \n",
       "50%                  NaN     0.000000  \n",
       "75%                  NaN     1.000000  \n",
       "max                  NaN     1.000000  "
      ]
     },
     "execution_count": 8,
     "metadata": {},
     "output_type": "execute_result"
    }
   ],
   "source": [
    "data_train.describe(include='all')"
   ]
  },
  {
   "cell_type": "markdown",
   "metadata": {
    "id": "C1GyoX98IgEm"
   },
   "source": [
    "Численные признаки имеют разный масштаб, это тоже исправим далее."
   ]
  },
  {
   "cell_type": "markdown",
   "metadata": {
    "id": "ZY8UCPiDJedY"
   },
   "source": [
    "Теперь посмотрим на тестовую выборку"
   ]
  },
  {
   "cell_type": "code",
   "execution_count": 9,
   "metadata": {
    "id": "EY0NPBsfJg-H",
    "outputId": "b2c1d895-82ea-4159-e830-0d9ad34a96fb"
   },
   "outputs": [
    {
     "data": {
      "text/plain": [
       "(1761, 19)"
      ]
     },
     "metadata": {},
     "output_type": "display_data"
    },
    {
     "data": {
      "text/html": [
       "<div>\n",
       "<style scoped>\n",
       "    .dataframe tbody tr th:only-of-type {\n",
       "        vertical-align: middle;\n",
       "    }\n",
       "\n",
       "    .dataframe tbody tr th {\n",
       "        vertical-align: top;\n",
       "    }\n",
       "\n",
       "    .dataframe thead th {\n",
       "        text-align: right;\n",
       "    }\n",
       "</style>\n",
       "<table border=\"1\" class=\"dataframe\">\n",
       "  <thead>\n",
       "    <tr style=\"text-align: right;\">\n",
       "      <th></th>\n",
       "      <th>ClientPeriod</th>\n",
       "      <th>MonthlySpending</th>\n",
       "      <th>TotalSpent</th>\n",
       "      <th>Sex</th>\n",
       "      <th>IsSeniorCitizen</th>\n",
       "      <th>HasPartner</th>\n",
       "      <th>HasChild</th>\n",
       "      <th>HasPhoneService</th>\n",
       "      <th>HasMultiplePhoneNumbers</th>\n",
       "      <th>HasInternetService</th>\n",
       "      <th>HasOnlineSecurityService</th>\n",
       "      <th>HasOnlineBackup</th>\n",
       "      <th>HasDeviceProtection</th>\n",
       "      <th>HasTechSupportAccess</th>\n",
       "      <th>HasOnlineTV</th>\n",
       "      <th>HasMovieSubscription</th>\n",
       "      <th>HasContractPhone</th>\n",
       "      <th>IsBillingPaperless</th>\n",
       "      <th>PaymentMethod</th>\n",
       "    </tr>\n",
       "  </thead>\n",
       "  <tbody>\n",
       "    <tr>\n",
       "      <th>741</th>\n",
       "      <td>4</td>\n",
       "      <td>45.65</td>\n",
       "      <td>191.05</td>\n",
       "      <td>Female</td>\n",
       "      <td>0</td>\n",
       "      <td>No</td>\n",
       "      <td>No</td>\n",
       "      <td>Yes</td>\n",
       "      <td>No</td>\n",
       "      <td>DSL</td>\n",
       "      <td>No</td>\n",
       "      <td>No</td>\n",
       "      <td>No</td>\n",
       "      <td>No</td>\n",
       "      <td>No</td>\n",
       "      <td>No</td>\n",
       "      <td>Month-to-month</td>\n",
       "      <td>No</td>\n",
       "      <td>Mailed check</td>\n",
       "    </tr>\n",
       "    <tr>\n",
       "      <th>1735</th>\n",
       "      <td>22</td>\n",
       "      <td>85.35</td>\n",
       "      <td>1961.6</td>\n",
       "      <td>Female</td>\n",
       "      <td>1</td>\n",
       "      <td>Yes</td>\n",
       "      <td>Yes</td>\n",
       "      <td>Yes</td>\n",
       "      <td>Yes</td>\n",
       "      <td>Fiber optic</td>\n",
       "      <td>No</td>\n",
       "      <td>No</td>\n",
       "      <td>No</td>\n",
       "      <td>No</td>\n",
       "      <td>Yes</td>\n",
       "      <td>No</td>\n",
       "      <td>Month-to-month</td>\n",
       "      <td>No</td>\n",
       "      <td>Bank transfer (automatic)</td>\n",
       "    </tr>\n",
       "    <tr>\n",
       "      <th>218</th>\n",
       "      <td>28</td>\n",
       "      <td>59.55</td>\n",
       "      <td>1646.45</td>\n",
       "      <td>Female</td>\n",
       "      <td>0</td>\n",
       "      <td>No</td>\n",
       "      <td>No</td>\n",
       "      <td>Yes</td>\n",
       "      <td>No</td>\n",
       "      <td>DSL</td>\n",
       "      <td>No</td>\n",
       "      <td>No</td>\n",
       "      <td>Yes</td>\n",
       "      <td>No</td>\n",
       "      <td>Yes</td>\n",
       "      <td>No</td>\n",
       "      <td>Month-to-month</td>\n",
       "      <td>Yes</td>\n",
       "      <td>Bank transfer (automatic)</td>\n",
       "    </tr>\n",
       "    <tr>\n",
       "      <th>834</th>\n",
       "      <td>70</td>\n",
       "      <td>97.65</td>\n",
       "      <td>6982.5</td>\n",
       "      <td>Female</td>\n",
       "      <td>0</td>\n",
       "      <td>Yes</td>\n",
       "      <td>No</td>\n",
       "      <td>Yes</td>\n",
       "      <td>Yes</td>\n",
       "      <td>Fiber optic</td>\n",
       "      <td>No</td>\n",
       "      <td>No</td>\n",
       "      <td>Yes</td>\n",
       "      <td>No</td>\n",
       "      <td>Yes</td>\n",
       "      <td>Yes</td>\n",
       "      <td>One year</td>\n",
       "      <td>Yes</td>\n",
       "      <td>Electronic check</td>\n",
       "    </tr>\n",
       "    <tr>\n",
       "      <th>1355</th>\n",
       "      <td>2</td>\n",
       "      <td>73.55</td>\n",
       "      <td>145.4</td>\n",
       "      <td>Female</td>\n",
       "      <td>0</td>\n",
       "      <td>Yes</td>\n",
       "      <td>Yes</td>\n",
       "      <td>Yes</td>\n",
       "      <td>No</td>\n",
       "      <td>Fiber optic</td>\n",
       "      <td>No</td>\n",
       "      <td>Yes</td>\n",
       "      <td>No</td>\n",
       "      <td>No</td>\n",
       "      <td>No</td>\n",
       "      <td>No</td>\n",
       "      <td>Month-to-month</td>\n",
       "      <td>Yes</td>\n",
       "      <td>Bank transfer (automatic)</td>\n",
       "    </tr>\n",
       "  </tbody>\n",
       "</table>\n",
       "</div>"
      ],
      "text/plain": [
       "      ClientPeriod  MonthlySpending TotalSpent     Sex  IsSeniorCitizen  \\\n",
       "741              4            45.65     191.05  Female                0   \n",
       "1735            22            85.35     1961.6  Female                1   \n",
       "218             28            59.55    1646.45  Female                0   \n",
       "834             70            97.65     6982.5  Female                0   \n",
       "1355             2            73.55      145.4  Female                0   \n",
       "\n",
       "     HasPartner HasChild HasPhoneService HasMultiplePhoneNumbers  \\\n",
       "741          No       No             Yes                      No   \n",
       "1735        Yes      Yes             Yes                     Yes   \n",
       "218          No       No             Yes                      No   \n",
       "834         Yes       No             Yes                     Yes   \n",
       "1355        Yes      Yes             Yes                      No   \n",
       "\n",
       "     HasInternetService HasOnlineSecurityService HasOnlineBackup  \\\n",
       "741                 DSL                       No              No   \n",
       "1735        Fiber optic                       No              No   \n",
       "218                 DSL                       No              No   \n",
       "834         Fiber optic                       No              No   \n",
       "1355        Fiber optic                       No             Yes   \n",
       "\n",
       "     HasDeviceProtection HasTechSupportAccess HasOnlineTV  \\\n",
       "741                   No                   No          No   \n",
       "1735                  No                   No         Yes   \n",
       "218                  Yes                   No         Yes   \n",
       "834                  Yes                   No         Yes   \n",
       "1355                  No                   No          No   \n",
       "\n",
       "     HasMovieSubscription HasContractPhone IsBillingPaperless  \\\n",
       "741                    No   Month-to-month                 No   \n",
       "1735                   No   Month-to-month                 No   \n",
       "218                    No   Month-to-month                Yes   \n",
       "834                   Yes         One year                Yes   \n",
       "1355                   No   Month-to-month                Yes   \n",
       "\n",
       "                  PaymentMethod  \n",
       "741                Mailed check  \n",
       "1735  Bank transfer (automatic)  \n",
       "218   Bank transfer (automatic)  \n",
       "834            Electronic check  \n",
       "1355  Bank transfer (automatic)  "
      ]
     },
     "metadata": {},
     "output_type": "display_data"
    },
    {
     "name": "stdout",
     "output_type": "stream",
     "text": [
      "<class 'pandas.core.frame.DataFrame'>\n",
      "RangeIndex: 1761 entries, 0 to 1760\n",
      "Data columns (total 19 columns):\n",
      " #   Column                    Non-Null Count  Dtype  \n",
      "---  ------                    --------------  -----  \n",
      " 0   ClientPeriod              1761 non-null   int64  \n",
      " 1   MonthlySpending           1761 non-null   float64\n",
      " 2   TotalSpent                1761 non-null   object \n",
      " 3   Sex                       1761 non-null   object \n",
      " 4   IsSeniorCitizen           1761 non-null   int64  \n",
      " 5   HasPartner                1761 non-null   object \n",
      " 6   HasChild                  1761 non-null   object \n",
      " 7   HasPhoneService           1761 non-null   object \n",
      " 8   HasMultiplePhoneNumbers   1761 non-null   object \n",
      " 9   HasInternetService        1761 non-null   object \n",
      " 10  HasOnlineSecurityService  1761 non-null   object \n",
      " 11  HasOnlineBackup           1761 non-null   object \n",
      " 12  HasDeviceProtection       1761 non-null   object \n",
      " 13  HasTechSupportAccess      1761 non-null   object \n",
      " 14  HasOnlineTV               1761 non-null   object \n",
      " 15  HasMovieSubscription      1761 non-null   object \n",
      " 16  HasContractPhone          1761 non-null   object \n",
      " 17  IsBillingPaperless        1761 non-null   object \n",
      " 18  PaymentMethod             1761 non-null   object \n",
      "dtypes: float64(1), int64(2), object(16)\n",
      "memory usage: 261.5+ KB\n"
     ]
    },
    {
     "data": {
      "text/plain": [
       "None"
      ]
     },
     "metadata": {},
     "output_type": "display_data"
    },
    {
     "data": {
      "text/plain": [
       "ClientPeriod                0\n",
       "MonthlySpending             0\n",
       "TotalSpent                  0\n",
       "Sex                         0\n",
       "IsSeniorCitizen             0\n",
       "HasPartner                  0\n",
       "HasChild                    0\n",
       "HasPhoneService             0\n",
       "HasMultiplePhoneNumbers     0\n",
       "HasInternetService          0\n",
       "HasOnlineSecurityService    0\n",
       "HasOnlineBackup             0\n",
       "HasDeviceProtection         0\n",
       "HasTechSupportAccess        0\n",
       "HasOnlineTV                 0\n",
       "HasMovieSubscription        0\n",
       "HasContractPhone            0\n",
       "IsBillingPaperless          0\n",
       "PaymentMethod               0\n",
       "dtype: int64"
      ]
     },
     "metadata": {},
     "output_type": "display_data"
    }
   ],
   "source": [
    "display(data_test.shape)\n",
    "display(data_test.sample(5))\n",
    "display(data_test.info())\n",
    "display(data_test.isna().sum())"
   ]
  },
  {
   "cell_type": "markdown",
   "metadata": {
    "id": "LW5lTNgEJ2aJ"
   },
   "source": [
    "Также нет никаких пропусков"
   ]
  },
  {
   "cell_type": "code",
   "execution_count": 10,
   "metadata": {
    "id": "7uYZt71eRZLE",
    "outputId": "fbdefa72-5565-4e02-e819-8ff4d105d4c7"
   },
   "outputs": [
    {
     "name": "stdout",
     "output_type": "stream",
     "text": [
      "1\n",
      "1\n"
     ]
    }
   ],
   "source": [
    "print(sum(data_train['TotalSpent'].unique() == ' '))\n",
    "print(sum(data_test['TotalSpent'].unique() == ' '))"
   ]
  },
  {
   "cell_type": "markdown",
   "metadata": {
    "id": "V3CyweK0TEEx"
   },
   "source": [
    "Заполним пропуски медианой"
   ]
  },
  {
   "cell_type": "code",
   "execution_count": 11,
   "metadata": {
    "id": "XjD09ICbR5LS"
   },
   "outputs": [],
   "source": [
    "data_train['TotalSpent'] = pd.to_numeric(data_train['TotalSpent'], errors='coerce')\n",
    "data_test['TotalSpent'] = pd.to_numeric(data_test['TotalSpent'], errors='coerce')"
   ]
  },
  {
   "cell_type": "code",
   "execution_count": 12,
   "metadata": {
    "id": "3e7eX4M0SKyi",
    "outputId": "c25d20e9-2c93-4d1f-b9c2-241312cde88a"
   },
   "outputs": [
    {
     "name": "stdout",
     "output_type": "stream",
     "text": [
      "<class 'pandas.core.frame.DataFrame'>\n",
      "RangeIndex: 5282 entries, 0 to 5281\n",
      "Data columns (total 20 columns):\n",
      " #   Column                    Non-Null Count  Dtype  \n",
      "---  ------                    --------------  -----  \n",
      " 0   ClientPeriod              5282 non-null   int64  \n",
      " 1   MonthlySpending           5282 non-null   float64\n",
      " 2   TotalSpent                5273 non-null   float64\n",
      " 3   Sex                       5282 non-null   object \n",
      " 4   IsSeniorCitizen           5282 non-null   int64  \n",
      " 5   HasPartner                5282 non-null   object \n",
      " 6   HasChild                  5282 non-null   object \n",
      " 7   HasPhoneService           5282 non-null   object \n",
      " 8   HasMultiplePhoneNumbers   5282 non-null   object \n",
      " 9   HasInternetService        5282 non-null   object \n",
      " 10  HasOnlineSecurityService  5282 non-null   object \n",
      " 11  HasOnlineBackup           5282 non-null   object \n",
      " 12  HasDeviceProtection       5282 non-null   object \n",
      " 13  HasTechSupportAccess      5282 non-null   object \n",
      " 14  HasOnlineTV               5282 non-null   object \n",
      " 15  HasMovieSubscription      5282 non-null   object \n",
      " 16  HasContractPhone          5282 non-null   object \n",
      " 17  IsBillingPaperless        5282 non-null   object \n",
      " 18  PaymentMethod             5282 non-null   object \n",
      " 19  Churn                     5282 non-null   int64  \n",
      "dtypes: float64(2), int64(3), object(15)\n",
      "memory usage: 825.4+ KB\n"
     ]
    },
    {
     "data": {
      "text/plain": [
       "None"
      ]
     },
     "metadata": {},
     "output_type": "display_data"
    },
    {
     "name": "stdout",
     "output_type": "stream",
     "text": [
      "<class 'pandas.core.frame.DataFrame'>\n",
      "RangeIndex: 1761 entries, 0 to 1760\n",
      "Data columns (total 19 columns):\n",
      " #   Column                    Non-Null Count  Dtype  \n",
      "---  ------                    --------------  -----  \n",
      " 0   ClientPeriod              1761 non-null   int64  \n",
      " 1   MonthlySpending           1761 non-null   float64\n",
      " 2   TotalSpent                1759 non-null   float64\n",
      " 3   Sex                       1761 non-null   object \n",
      " 4   IsSeniorCitizen           1761 non-null   int64  \n",
      " 5   HasPartner                1761 non-null   object \n",
      " 6   HasChild                  1761 non-null   object \n",
      " 7   HasPhoneService           1761 non-null   object \n",
      " 8   HasMultiplePhoneNumbers   1761 non-null   object \n",
      " 9   HasInternetService        1761 non-null   object \n",
      " 10  HasOnlineSecurityService  1761 non-null   object \n",
      " 11  HasOnlineBackup           1761 non-null   object \n",
      " 12  HasDeviceProtection       1761 non-null   object \n",
      " 13  HasTechSupportAccess      1761 non-null   object \n",
      " 14  HasOnlineTV               1761 non-null   object \n",
      " 15  HasMovieSubscription      1761 non-null   object \n",
      " 16  HasContractPhone          1761 non-null   object \n",
      " 17  IsBillingPaperless        1761 non-null   object \n",
      " 18  PaymentMethod             1761 non-null   object \n",
      "dtypes: float64(2), int64(2), object(15)\n",
      "memory usage: 261.5+ KB\n"
     ]
    },
    {
     "data": {
      "text/plain": [
       "None"
      ]
     },
     "metadata": {},
     "output_type": "display_data"
    }
   ],
   "source": [
    "display(data_train.info())\n",
    "display(data_test.info())"
   ]
  },
  {
   "cell_type": "code",
   "execution_count": 13,
   "metadata": {
    "id": "l-i-gIePShFI",
    "outputId": "19f8966d-ffac-4831-bb74-14dfe01b7c5f"
   },
   "outputs": [
    {
     "name": "stdout",
     "output_type": "stream",
     "text": [
      "<class 'pandas.core.frame.DataFrame'>\n",
      "RangeIndex: 5282 entries, 0 to 5281\n",
      "Data columns (total 20 columns):\n",
      " #   Column                    Non-Null Count  Dtype  \n",
      "---  ------                    --------------  -----  \n",
      " 0   ClientPeriod              5282 non-null   int64  \n",
      " 1   MonthlySpending           5282 non-null   float64\n",
      " 2   TotalSpent                5282 non-null   float64\n",
      " 3   Sex                       5282 non-null   object \n",
      " 4   IsSeniorCitizen           5282 non-null   int64  \n",
      " 5   HasPartner                5282 non-null   object \n",
      " 6   HasChild                  5282 non-null   object \n",
      " 7   HasPhoneService           5282 non-null   object \n",
      " 8   HasMultiplePhoneNumbers   5282 non-null   object \n",
      " 9   HasInternetService        5282 non-null   object \n",
      " 10  HasOnlineSecurityService  5282 non-null   object \n",
      " 11  HasOnlineBackup           5282 non-null   object \n",
      " 12  HasDeviceProtection       5282 non-null   object \n",
      " 13  HasTechSupportAccess      5282 non-null   object \n",
      " 14  HasOnlineTV               5282 non-null   object \n",
      " 15  HasMovieSubscription      5282 non-null   object \n",
      " 16  HasContractPhone          5282 non-null   object \n",
      " 17  IsBillingPaperless        5282 non-null   object \n",
      " 18  PaymentMethod             5282 non-null   object \n",
      " 19  Churn                     5282 non-null   int64  \n",
      "dtypes: float64(2), int64(3), object(15)\n",
      "memory usage: 825.4+ KB\n"
     ]
    },
    {
     "data": {
      "text/plain": [
       "None"
      ]
     },
     "metadata": {},
     "output_type": "display_data"
    },
    {
     "name": "stdout",
     "output_type": "stream",
     "text": [
      "<class 'pandas.core.frame.DataFrame'>\n",
      "RangeIndex: 1761 entries, 0 to 1760\n",
      "Data columns (total 19 columns):\n",
      " #   Column                    Non-Null Count  Dtype  \n",
      "---  ------                    --------------  -----  \n",
      " 0   ClientPeriod              1761 non-null   int64  \n",
      " 1   MonthlySpending           1761 non-null   float64\n",
      " 2   TotalSpent                1761 non-null   float64\n",
      " 3   Sex                       1761 non-null   object \n",
      " 4   IsSeniorCitizen           1761 non-null   int64  \n",
      " 5   HasPartner                1761 non-null   object \n",
      " 6   HasChild                  1761 non-null   object \n",
      " 7   HasPhoneService           1761 non-null   object \n",
      " 8   HasMultiplePhoneNumbers   1761 non-null   object \n",
      " 9   HasInternetService        1761 non-null   object \n",
      " 10  HasOnlineSecurityService  1761 non-null   object \n",
      " 11  HasOnlineBackup           1761 non-null   object \n",
      " 12  HasDeviceProtection       1761 non-null   object \n",
      " 13  HasTechSupportAccess      1761 non-null   object \n",
      " 14  HasOnlineTV               1761 non-null   object \n",
      " 15  HasMovieSubscription      1761 non-null   object \n",
      " 16  HasContractPhone          1761 non-null   object \n",
      " 17  IsBillingPaperless        1761 non-null   object \n",
      " 18  PaymentMethod             1761 non-null   object \n",
      "dtypes: float64(2), int64(2), object(15)\n",
      "memory usage: 261.5+ KB\n"
     ]
    },
    {
     "data": {
      "text/plain": [
       "None"
      ]
     },
     "metadata": {},
     "output_type": "display_data"
    }
   ],
   "source": [
    "train_median = data_train['TotalSpent'].median()\n",
    "data_train['TotalSpent'] = data_train['TotalSpent'].fillna(value=train_median)\n",
    "data_test['TotalSpent'] = data_test['TotalSpent'].fillna(value=train_median)\n",
    "\n",
    "display(data_train.info())\n",
    "display(data_test.info())"
   ]
  },
  {
   "cell_type": "markdown",
   "metadata": {
    "id": "dK370bPCEEZD"
   },
   "source": [
    "# Анализ данных (3 балла)\n",
    "\n",
    "1) Для численных призанков постройте гистограмму (*plt.hist(...)*) или boxplot (*plt.boxplot(...)*). Для категориальных посчитайте количество каждого значения для каждого признака. Для каждой колонки надо сделать *data.value_counts()* и построить bar диаграммы *plt.bar(...)* или круговые диаграммы *plt.pie(...)* (хорошо, елси вы сможете это сделать на одном гарфике с помощью *plt.subplots(...)*). \n",
    "\n",
    "2) Посмотрите на распределение целевой переменной и скажите, являются ли классы несбалансированными.\n",
    "\n",
    "3) (Если будет желание) Поиграйте с разными библиотеками для визуализации - *sns*, *pandas_visual_analysis*, etc.\n",
    "\n",
    "Второй пункт очень важен, потому что существуют задачи классификации с несбалансированными классами. Например, это может значить, что в датасете намного больше примеров 0 класса. В таких случаях нужно 1) не использовать accuracy как метрику 2) использовать методы борьбы с imbalanced dataset (обычно если датасет сильно несбалансирован, т.е. класса 1 в 20 раз меньше класса 0)."
   ]
  },
  {
   "cell_type": "markdown",
   "metadata": {
    "id": "Ao7-kuEbKXly"
   },
   "source": [
    "Построим гистограммы и посмотрим на них"
   ]
  },
  {
   "cell_type": "code",
   "execution_count": 14,
   "metadata": {
    "id": "UWhmZtI0Kcoe",
    "outputId": "b10ebdaf-75ea-4f4a-c255-16e78eea3703"
   },
   "outputs": [
    {
     "data": {
      "image/png": "[encoded data removed]",
      "text/plain": [
       "<Figure size 1296x360 with 3 Axes>"
      ]
     },
     "metadata": {
      "needs_background": "light"
     },
     "output_type": "display_data"
    }
   ],
   "source": [
    "fig, ax = plt.subplots(nrows=1, ncols=len(num_cols), figsize=(18,5))\n",
    "for i, col in enumerate(num_cols):\n",
    "    ax[i].hist(data_train[col])\n",
    "    ax[i].set_title(col)"
   ]
  },
  {
   "cell_type": "code",
   "execution_count": 15,
   "metadata": {
    "id": "hv2JyhA9QVVX",
    "outputId": "10d08959-cafc-4f01-e21d-43d6a347a334"
   },
   "outputs": [
    {
     "data": {
      "image/png": "[encoded data removed]",
      "text/plain": [
       "<Figure size 1296x360 with 3 Axes>"
      ]
     },
     "metadata": {
      "needs_background": "light"
     },
     "output_type": "display_data"
    }
   ],
   "source": [
    "fig, ax = plt.subplots(nrows=1, ncols=len(num_cols), figsize=(18,5))\n",
    "for i, col in enumerate(num_cols):\n",
    "    ax[i].boxplot(data_train[col])\n",
    "    ax[i].set_title(col)"
   ]
  },
  {
   "cell_type": "markdown",
   "metadata": {
    "id": "9jEtmQl_R5Uo"
   },
   "source": [
    "Выбросов не наблюдается, у признаков большие хвосты."
   ]
  },
  {
   "cell_type": "markdown",
   "metadata": {
    "id": "18vYOBE5SGlh"
   },
   "source": [
    "Теперь разберемся с категориальными признаками"
   ]
  },
  {
   "cell_type": "code",
   "execution_count": 8,
   "metadata": {
    "id": "goZpXjujSJ6S",
    "outputId": "5da7ccfb-57db-4b41-c34a-59d0de52c7b3"
   },
   "outputs": [
    {
     "name": "stdout",
     "output_type": "stream",
     "text": [
      "Признак: Sex\n",
      "unique values ['Male' 'Female']\n"
     ]
    },
    {
     "data": {
      "image/png": "[encoded data removed]",
      "text/plain": [
       "<Figure size 432x288 with 1 Axes>"
      ]
     },
     "metadata": {
      "needs_background": "light"
     },
     "output_type": "display_data"
    },
    {
     "name": "stdout",
     "output_type": "stream",
     "text": [
      "Признак: IsSeniorCitizen\n",
      "unique values [0 1]\n"
     ]
    },
    {
     "data": {
      "image/png": "[encoded data removed]",
      "text/plain": [
       "<Figure size 432x288 with 1 Axes>"
      ]
     },
     "metadata": {
      "needs_background": "light"
     },
     "output_type": "display_data"
    },
    {
     "name": "stdout",
     "output_type": "stream",
     "text": [
      "Признак: HasPartner\n",
      "unique values ['Yes' 'No']\n"
     ]
    },
    {
     "data": {
      "image/png": "[encoded data removed]",
      "text/plain": [
       "<Figure size 432x288 with 1 Axes>"
      ]
     },
     "metadata": {
      "needs_background": "light"
     },
     "output_type": "display_data"
    },
    {
     "name": "stdout",
     "output_type": "stream",
     "text": [
      "Признак: HasChild\n",
      "unique values ['Yes' 'No']\n"
     ]
    },
    {
     "data": {
      "image/png": "[encoded data removed]",
      "text/plain": [
       "<Figure size 432x288 with 1 Axes>"
      ]
     },
     "metadata": {
      "needs_background": "light"
     },
     "output_type": "display_data"
    },
    {
     "name": "stdout",
     "output_type": "stream",
     "text": [
      "Признак: HasPhoneService\n",
      "unique values ['Yes' 'No']\n"
     ]
    },
    {
     "data": {
      "image/png": "[encoded data removed]",
      "text/plain": [
       "<Figure size 432x288 with 1 Axes>"
      ]
     },
     "metadata": {
      "needs_background": "light"
     },
     "output_type": "display_data"
    },
    {
     "name": "stdout",
     "output_type": "stream",
     "text": [
      "Признак: HasMultiplePhoneNumbers\n",
      "unique values ['No' 'Yes' 'No phone service']\n"
     ]
    },
    {
     "data": {
      "image/png": "[encoded data removed]",
      "text/plain": [
       "<Figure size 432x288 with 1 Axes>"
      ]
     },
     "metadata": {
      "needs_background": "light"
     },
     "output_type": "display_data"
    },
    {
     "name": "stdout",
     "output_type": "stream",
     "text": [
      "Признак: HasInternetService\n",
      "unique values ['No' 'Fiber optic' 'DSL']\n"
     ]
    },
    {
     "data": {
      "image/png": "[encoded data removed]",
      "text/plain": [
       "<Figure size 432x288 with 1 Axes>"
      ]
     },
     "metadata": {
      "needs_background": "light"
     },
     "output_type": "display_data"
    },
    {
     "name": "stdout",
     "output_type": "stream",
     "text": [
      "Признак: HasOnlineSecurityService\n",
      "unique values ['No internet service' 'No' 'Yes']\n"
     ]
    },
    {
     "data": {
      "image/png": "[encoded data removed]",
      "text/plain": [
       "<Figure size 432x288 with 1 Axes>"
      ]
     },
     "metadata": {
      "needs_background": "light"
     },
     "output_type": "display_data"
    },
    {
     "name": "stdout",
     "output_type": "stream",
     "text": [
      "Признак: HasOnlineBackup\n",
      "unique values ['No internet service' 'No' 'Yes']\n"
     ]
    },
    {
     "data": {
      "image/png": "[encoded data removed]",
      "text/plain": [
       "<Figure size 432x288 with 1 Axes>"
      ]
     },
     "metadata": {
      "needs_background": "light"
     },
     "output_type": "display_data"
    },
    {
     "name": "stdout",
     "output_type": "stream",
     "text": [
      "Признак: HasDeviceProtection\n",
      "unique values ['No internet service' 'No' 'Yes']\n"
     ]
    },
    {
     "data": {
      "image/png": "[encoded data removed]",
      "text/plain": [
       "<Figure size 432x288 with 1 Axes>"
      ]
     },
     "metadata": {
      "needs_background": "light"
     },
     "output_type": "display_data"
    },
    {
     "name": "stdout",
     "output_type": "stream",
     "text": [
      "Признак: HasTechSupportAccess\n",
      "unique values ['No internet service' 'Yes' 'No']\n"
     ]
    },
    {
     "data": {
      "image/png": "[encoded data removed]",
      "text/plain": [
       "<Figure size 432x288 with 1 Axes>"
      ]
     },
     "metadata": {
      "needs_background": "light"
     },
     "output_type": "display_data"
    },
    {
     "name": "stdout",
     "output_type": "stream",
     "text": [
      "Признак: HasOnlineTV\n",
      "unique values ['No internet service' 'No' 'Yes']\n"
     ]
    },
    {
     "data": {
      "image/png": "[encoded data removed]",
      "text/plain": [
       "<Figure size 432x288 with 1 Axes>"
      ]
     },
     "metadata": {
      "needs_background": "light"
     },
     "output_type": "display_data"
    },
    {
     "name": "stdout",
     "output_type": "stream",
     "text": [
      "Признак: HasMovieSubscription\n",
      "unique values ['No internet service' 'No' 'Yes']\n"
     ]
    },
    {
     "data": {
      "image/png": "[encoded data removed]",
      "text/plain": [
       "<Figure size 432x288 with 1 Axes>"
      ]
     },
     "metadata": {
      "needs_background": "light"
     },
     "output_type": "display_data"
    },
    {
     "name": "stdout",
     "output_type": "stream",
     "text": [
      "Признак: HasContractPhone\n",
      "unique values ['One year' 'Two year' 'Month-to-month']\n"
     ]
    },
    {
     "data": {
      "image/png": "[encoded data removed]",
      "text/plain": [
       "<Figure size 432x288 with 1 Axes>"
      ]
     },
     "metadata": {
      "needs_background": "light"
     },
     "output_type": "display_data"
    },
    {
     "name": "stdout",
     "output_type": "stream",
     "text": [
      "Признак: IsBillingPaperless\n",
      "unique values ['No' 'Yes']\n"
     ]
    },
    {
     "data": {
      "image/png": "[encoded data removed]",
      "text/plain": [
       "<Figure size 432x288 with 1 Axes>"
      ]
     },
     "metadata": {
      "needs_background": "light"
     },
     "output_type": "display_data"
    },
    {
     "name": "stdout",
     "output_type": "stream",
     "text": [
      "Признак: PaymentMethod\n",
      "unique values ['Mailed check' 'Credit card (automatic)' 'Electronic check'\n",
      " 'Bank transfer (automatic)']\n"
     ]
    },
    {
     "data": {
      "image/png": "[encoded data removed]",
      "text/plain": [
       "<Figure size 432x288 with 1 Axes>"
      ]
     },
     "metadata": {
      "needs_background": "light"
     },
     "output_type": "display_data"
    }
   ],
   "source": [
    "for col in cat_cols:\n",
    "    print('Признак:', col)\n",
    "    x = data_train[col].unique()\n",
    "    print('unique values', x)\n",
    "    y = data_train[col].value_counts()\n",
    "    plt.bar(x, y)\n",
    "    plt.title('quantity of unqiue values in ' + col)\n",
    "    plt.show()"
   ]
  },
  {
   "cell_type": "markdown",
   "metadata": {
    "id": "XJQzH_K0Trvc"
   },
   "source": [
    "Все признаки имет по 2-3 категории, что хорошо, ведь для линейных моделей их придется кодировать. "
   ]
  },
  {
   "cell_type": "markdown",
   "metadata": {
    "id": "-w8589CMT0hL"
   },
   "source": [
    "Теперь посмотрим на баланс классов в таргете."
   ]
  },
  {
   "cell_type": "code",
   "execution_count": 17,
   "metadata": {
    "id": "AdcnIF3mT4BX",
    "outputId": "a8f67a5c-0a9f-4a34-f807-2a4ef72b9938"
   },
   "outputs": [
    {
     "data": {
      "text/plain": [
       "<Axes: >"
      ]
     },
     "execution_count": 17,
     "metadata": {},
     "output_type": "execute_result"
    },
    {
     "data": {
      "image/png": "[encoded data removed]",
      "text/plain": [
       "<Figure size 432x288 with 1 Axes>"
      ]
     },
     "metadata": {
      "needs_background": "light"
     },
     "output_type": "display_data"
    }
   ],
   "source": [
    "data_train['Churn'].value_counts(normalize=True).plot(kind='bar')"
   ]
  },
  {
   "cell_type": "markdown",
   "metadata": {
    "id": "HROKB-jLUPsK"
   },
   "source": [
    "Наблюдается несбалансированность классов"
   ]
  },
  {
   "cell_type": "markdown",
   "metadata": {
    "id": "zg60u3QDEEZH"
   },
   "source": [
    "(Дополнительно) Если вы нашли какие-то ошибки в данных или выбросы, то можете их убрать. Тут можно поэксперементировать с обработкой данных как угодно, но не за баллы."
   ]
  },
  {
   "cell_type": "code",
   "execution_count": 18,
   "metadata": {
    "id": "fwfksF1gEEZI"
   },
   "outputs": [],
   "source": [
    "import seaborn as sns"
   ]
  },
  {
   "cell_type": "code",
   "execution_count": 19,
   "metadata": {
    "id": "S-SDPVJ8V9N7",
    "outputId": "69cc9cf3-8386-43eb-8c96-2d098916e680"
   },
   "outputs": [
    {
     "data": {
      "text/plain": [
       "<seaborn.axisgrid.PairGrid at 0x252c4ecb8b0>"
      ]
     },
     "execution_count": 19,
     "metadata": {},
     "output_type": "execute_result"
    },
    {
     "data": {
      "image/png": "[encoded data removed]",
      "text/plain": [
       "<Figure size 900x900 with 30 Axes>"
      ]
     },
     "metadata": {
      "needs_background": "light"
     },
     "output_type": "display_data"
    }
   ],
   "source": [
    "sns.pairplot(data_train)"
   ]
  },
  {
   "cell_type": "markdown",
   "metadata": {
    "id": "6jrZQ2w7WSrj"
   },
   "source": [
    "По некоторым признакам заметна линейная разделимось. Но настараживают графики, где всего 4 точки. Из-за них есть вероятность, что линейные модели без модификаций плохо себя покажут, но это еще предстоить выяснить. "
   ]
  },
  {
   "cell_type": "code",
   "execution_count": 22,
   "metadata": {
    "id": "gPw4ecULXZO3"
   },
   "outputs": [],
   "source": [
    "data_train = data_train.drop(['TotalSpent'], axis=1)\n",
    "data_test = data_test.drop(['TotalSpent'], axis=1)"
   ]
  },
  {
   "cell_type": "markdown",
   "metadata": {
    "id": "DviiJd8REEZK"
   },
   "source": [
    "# Применение линейных моделей (3 балла)\n",
    "\n",
    "1) Обработайте данные для того, чтобы к ним можно было применить LogisticRegression. Т.е. отнормируйте числовые признаки, а категориальные закодируйте с помощью one-hot-encoding'а. \n",
    "\n",
    "2) С помощью кроссвалидации или разделения на train/valid выборку протестируйте разные значения гиперпараметра C и выберите лучший (можно тестировать С=100, 10, 1, 0.1, 0.01, 0.001) по метрике ROC-AUC. \n",
    "\n",
    "Если вы разделяете на train/valid, то используйте LogisticRegressionCV. Он сам при вызове .fit() подберет параметр С. (не забудьте передать scroing='roc_auc', чтобы при кроссвалидации сравнивались значения этой метрики, и refit=True, чтобы при потом модель обучилась на всем датасете с лучшим параметром C). \n",
    "\n",
    "\n",
    "(более сложный вариант) Если вы будете использовать кроссвалидацию, то преобразования данных и LogisticRegression нужно соединить в один Pipeline с помощью make_pipeline, как это делалось во втором семинаре. Потом pipeline надо передать в GridSearchCV. Для one-hot-encoding'a можно испльзовать комбинацию LabelEncoder + OneHotEncoder (сначала превращаем строчки в числа, а потом числа првращаем в one-hot вектора.)"
   ]
  },
  {
   "cell_type": "code",
   "execution_count": 23,
   "metadata": {
    "id": "xHCLDmwqEEZL"
   },
   "outputs": [],
   "source": [
    "from sklearn.metrics import roc_auc_score\n",
    "from sklearn.linear_model import LogisticRegression, LogisticRegressionCV\n",
    "from sklearn.model_selection import train_test_split, GridSearchCV\n",
    "from sklearn.preprocessing import StandardScaler, RobustScaler, LabelEncoder, OneHotEncoder\n",
    "from sklearn.pipeline import make_pipeline"
   ]
  },
  {
   "cell_type": "markdown",
   "metadata": {
    "id": "Z33ndyclVAcS"
   },
   "source": [
    "Для бустинга не будет кодировать категориальные признаки."
   ]
  },
  {
   "cell_type": "code",
   "execution_count": 24,
   "metadata": {
    "id": "4Y3dUik1U-QL"
   },
   "outputs": [],
   "source": [
    "data_train_original = data_train.copy()\n",
    "data_test_original = data_test.copy()"
   ]
  },
  {
   "cell_type": "code",
   "execution_count": 25,
   "metadata": {
    "id": "U2RqjFVtVdzA"
   },
   "outputs": [],
   "source": [
    "X_train = data_train.drop(['Churn'], axis=1)\n",
    "y_train = data_train['Churn']\n",
    "\n",
    "X_test = data_test"
   ]
  },
  {
   "cell_type": "markdown",
   "metadata": {
    "id": "d5BbGWe0Xzv0"
   },
   "source": [
    "Перейдем к предобработке данных."
   ]
  },
  {
   "cell_type": "code",
   "execution_count": 26,
   "metadata": {
    "id": "o-4l1sSRZWOs",
    "outputId": "2677fd5a-86bc-4ffb-f7eb-e2b8fe284104"
   },
   "outputs": [
    {
     "name": "stdout",
     "output_type": "stream",
     "text": [
      "['Sex', 'HasPartner', 'HasChild', 'HasPhoneService', 'HasMultiplePhoneNumbers', 'HasInternetService', 'HasOnlineSecurityService', 'HasOnlineBackup', 'HasDeviceProtection', 'HasTechSupportAccess', 'HasOnlineTV', 'HasMovieSubscription', 'HasContractPhone', 'IsBillingPaperless', 'PaymentMethod']\n",
      "['ClientPeriod', 'MonthlySpending', 'IsSeniorCitizen']\n"
     ]
    }
   ],
   "source": [
    "ohe_features = X_train.select_dtypes(include='object').columns.to_list()\n",
    "print(ohe_features)\n",
    "\n",
    "num_features = X_train.select_dtypes(exclude='object').columns.to_list()\n",
    "print(num_features)"
   ]
  },
  {
   "cell_type": "code",
   "execution_count": 27,
   "metadata": {
    "id": "T8LI_CLFYEtH",
    "outputId": "7f969dbf-f600-498f-de4a-4621a814a579"
   },
   "outputs": [
    {
     "name": "stderr",
     "output_type": "stream",
     "text": [
      "c:\\users\\vbadmaev1\\appdata\\local\\programs\\python\\python39\\lib\\site-packages\\sklearn\\preprocessing\\_encoders.py:868: FutureWarning: `sparse` was renamed to `sparse_output` in version 1.2 and will be removed in 1.4. `sparse_output` is ignored unless you leave `sparse` to its default value.\n",
      "  warnings.warn(\n"
     ]
    }
   ],
   "source": [
    "encoder = OneHotEncoder(drop='first', handle_unknown='ignore', sparse=False)\n",
    "encoder.fit(X_train[ohe_features])\n",
    "\n",
    "X_train[encoder.get_feature_names_out()] = encoder.transform(X_train[ohe_features])\n",
    "X_train.drop(ohe_features, axis=1, inplace=True)\n",
    "\n",
    "X_test[encoder.get_feature_names_out()] = encoder.transform(X_test[ohe_features])\n",
    "X_test.drop(ohe_features, axis=1, inplace=True)"
   ]
  },
  {
   "cell_type": "code",
   "execution_count": 28,
   "metadata": {
    "id": "_3fJ6y7-bCjU"
   },
   "outputs": [],
   "source": [
    "scaler = StandardScaler()\n",
    "scaler.fit(X_train[num_features])\n",
    "X_train[num_features] = scaler.transform(X_train[num_features])\n",
    "X_test[num_features] = scaler.transform(X_test[num_features])"
   ]
  },
  {
   "cell_type": "code",
   "execution_count": 29,
   "metadata": {
    "id": "WwfGSxnebYD5",
    "outputId": "ecba2124-b509-4f48-98e6-73784e01b57f"
   },
   "outputs": [
    {
     "data": {
      "text/html": [
       "<div>\n",
       "<style scoped>\n",
       "    .dataframe tbody tr th:only-of-type {\n",
       "        vertical-align: middle;\n",
       "    }\n",
       "\n",
       "    .dataframe tbody tr th {\n",
       "        vertical-align: top;\n",
       "    }\n",
       "\n",
       "    .dataframe thead th {\n",
       "        text-align: right;\n",
       "    }\n",
       "</style>\n",
       "<table border=\"1\" class=\"dataframe\">\n",
       "  <thead>\n",
       "    <tr style=\"text-align: right;\">\n",
       "      <th></th>\n",
       "      <th>ClientPeriod</th>\n",
       "      <th>MonthlySpending</th>\n",
       "      <th>IsSeniorCitizen</th>\n",
       "      <th>Sex_Male</th>\n",
       "      <th>HasPartner_Yes</th>\n",
       "      <th>HasChild_Yes</th>\n",
       "      <th>HasPhoneService_Yes</th>\n",
       "      <th>HasMultiplePhoneNumbers_No phone service</th>\n",
       "      <th>HasMultiplePhoneNumbers_Yes</th>\n",
       "      <th>HasInternetService_Fiber optic</th>\n",
       "      <th>...</th>\n",
       "      <th>HasOnlineTV_No internet service</th>\n",
       "      <th>HasOnlineTV_Yes</th>\n",
       "      <th>HasMovieSubscription_No internet service</th>\n",
       "      <th>HasMovieSubscription_Yes</th>\n",
       "      <th>HasContractPhone_One year</th>\n",
       "      <th>HasContractPhone_Two year</th>\n",
       "      <th>IsBillingPaperless_Yes</th>\n",
       "      <th>PaymentMethod_Credit card (automatic)</th>\n",
       "      <th>PaymentMethod_Electronic check</th>\n",
       "      <th>PaymentMethod_Mailed check</th>\n",
       "    </tr>\n",
       "  </thead>\n",
       "  <tbody>\n",
       "    <tr>\n",
       "      <th>0</th>\n",
       "      <td>0.920767</td>\n",
       "      <td>-1.505447</td>\n",
       "      <td>-0.435476</td>\n",
       "      <td>1.0</td>\n",
       "      <td>1.0</td>\n",
       "      <td>1.0</td>\n",
       "      <td>1.0</td>\n",
       "      <td>0.0</td>\n",
       "      <td>0.0</td>\n",
       "      <td>0.0</td>\n",
       "      <td>...</td>\n",
       "      <td>1.0</td>\n",
       "      <td>0.0</td>\n",
       "      <td>1.0</td>\n",
       "      <td>0.0</td>\n",
       "      <td>1.0</td>\n",
       "      <td>0.0</td>\n",
       "      <td>0.0</td>\n",
       "      <td>0.0</td>\n",
       "      <td>0.0</td>\n",
       "      <td>1.0</td>\n",
       "    </tr>\n",
       "    <tr>\n",
       "      <th>1</th>\n",
       "      <td>1.613288</td>\n",
       "      <td>-1.294998</td>\n",
       "      <td>-0.435476</td>\n",
       "      <td>1.0</td>\n",
       "      <td>1.0</td>\n",
       "      <td>0.0</td>\n",
       "      <td>1.0</td>\n",
       "      <td>0.0</td>\n",
       "      <td>1.0</td>\n",
       "      <td>0.0</td>\n",
       "      <td>...</td>\n",
       "      <td>1.0</td>\n",
       "      <td>0.0</td>\n",
       "      <td>1.0</td>\n",
       "      <td>0.0</td>\n",
       "      <td>0.0</td>\n",
       "      <td>1.0</td>\n",
       "      <td>0.0</td>\n",
       "      <td>1.0</td>\n",
       "      <td>0.0</td>\n",
       "      <td>0.0</td>\n",
       "    </tr>\n",
       "    <tr>\n",
       "      <th>2</th>\n",
       "      <td>-1.279005</td>\n",
       "      <td>0.363737</td>\n",
       "      <td>-0.435476</td>\n",
       "      <td>1.0</td>\n",
       "      <td>0.0</td>\n",
       "      <td>0.0</td>\n",
       "      <td>1.0</td>\n",
       "      <td>0.0</td>\n",
       "      <td>0.0</td>\n",
       "      <td>1.0</td>\n",
       "      <td>...</td>\n",
       "      <td>0.0</td>\n",
       "      <td>0.0</td>\n",
       "      <td>0.0</td>\n",
       "      <td>0.0</td>\n",
       "      <td>0.0</td>\n",
       "      <td>0.0</td>\n",
       "      <td>1.0</td>\n",
       "      <td>0.0</td>\n",
       "      <td>1.0</td>\n",
       "      <td>0.0</td>\n",
       "    </tr>\n",
       "    <tr>\n",
       "      <th>3</th>\n",
       "      <td>-0.016173</td>\n",
       "      <td>0.476418</td>\n",
       "      <td>2.296336</td>\n",
       "      <td>0.0</td>\n",
       "      <td>1.0</td>\n",
       "      <td>0.0</td>\n",
       "      <td>1.0</td>\n",
       "      <td>0.0</td>\n",
       "      <td>1.0</td>\n",
       "      <td>1.0</td>\n",
       "      <td>...</td>\n",
       "      <td>0.0</td>\n",
       "      <td>0.0</td>\n",
       "      <td>0.0</td>\n",
       "      <td>0.0</td>\n",
       "      <td>0.0</td>\n",
       "      <td>0.0</td>\n",
       "      <td>0.0</td>\n",
       "      <td>0.0</td>\n",
       "      <td>0.0</td>\n",
       "      <td>1.0</td>\n",
       "    </tr>\n",
       "    <tr>\n",
       "      <th>4</th>\n",
       "      <td>1.124450</td>\n",
       "      <td>1.667856</td>\n",
       "      <td>-0.435476</td>\n",
       "      <td>0.0</td>\n",
       "      <td>1.0</td>\n",
       "      <td>1.0</td>\n",
       "      <td>1.0</td>\n",
       "      <td>0.0</td>\n",
       "      <td>1.0</td>\n",
       "      <td>1.0</td>\n",
       "      <td>...</td>\n",
       "      <td>0.0</td>\n",
       "      <td>1.0</td>\n",
       "      <td>0.0</td>\n",
       "      <td>1.0</td>\n",
       "      <td>0.0</td>\n",
       "      <td>1.0</td>\n",
       "      <td>0.0</td>\n",
       "      <td>1.0</td>\n",
       "      <td>0.0</td>\n",
       "      <td>0.0</td>\n",
       "    </tr>\n",
       "  </tbody>\n",
       "</table>\n",
       "<p>5 rows × 29 columns</p>\n",
       "</div>"
      ],
      "text/plain": [
       "   ClientPeriod  MonthlySpending  IsSeniorCitizen  Sex_Male  HasPartner_Yes  \\\n",
       "0      0.920767        -1.505447        -0.435476       1.0             1.0   \n",
       "1      1.613288        -1.294998        -0.435476       1.0             1.0   \n",
       "2     -1.279005         0.363737        -0.435476       1.0             0.0   \n",
       "3     -0.016173         0.476418         2.296336       0.0             1.0   \n",
       "4      1.124450         1.667856        -0.435476       0.0             1.0   \n",
       "\n",
       "   HasChild_Yes  HasPhoneService_Yes  \\\n",
       "0           1.0                  1.0   \n",
       "1           0.0                  1.0   \n",
       "2           0.0                  1.0   \n",
       "3           0.0                  1.0   \n",
       "4           1.0                  1.0   \n",
       "\n",
       "   HasMultiplePhoneNumbers_No phone service  HasMultiplePhoneNumbers_Yes  \\\n",
       "0                                       0.0                          0.0   \n",
       "1                                       0.0                          1.0   \n",
       "2                                       0.0                          0.0   \n",
       "3                                       0.0                          1.0   \n",
       "4                                       0.0                          1.0   \n",
       "\n",
       "   HasInternetService_Fiber optic  ...  HasOnlineTV_No internet service  \\\n",
       "0                             0.0  ...                              1.0   \n",
       "1                             0.0  ...                              1.0   \n",
       "2                             1.0  ...                              0.0   \n",
       "3                             1.0  ...                              0.0   \n",
       "4                             1.0  ...                              0.0   \n",
       "\n",
       "   HasOnlineTV_Yes  HasMovieSubscription_No internet service  \\\n",
       "0              0.0                                       1.0   \n",
       "1              0.0                                       1.0   \n",
       "2              0.0                                       0.0   \n",
       "3              0.0                                       0.0   \n",
       "4              1.0                                       0.0   \n",
       "\n",
       "   HasMovieSubscription_Yes  HasContractPhone_One year  \\\n",
       "0                       0.0                        1.0   \n",
       "1                       0.0                        0.0   \n",
       "2                       0.0                        0.0   \n",
       "3                       0.0                        0.0   \n",
       "4                       1.0                        0.0   \n",
       "\n",
       "   HasContractPhone_Two year  IsBillingPaperless_Yes  \\\n",
       "0                        0.0                     0.0   \n",
       "1                        1.0                     0.0   \n",
       "2                        0.0                     1.0   \n",
       "3                        0.0                     0.0   \n",
       "4                        1.0                     0.0   \n",
       "\n",
       "   PaymentMethod_Credit card (automatic)  PaymentMethod_Electronic check  \\\n",
       "0                                    0.0                             0.0   \n",
       "1                                    1.0                             0.0   \n",
       "2                                    0.0                             1.0   \n",
       "3                                    0.0                             0.0   \n",
       "4                                    1.0                             0.0   \n",
       "\n",
       "   PaymentMethod_Mailed check  \n",
       "0                         1.0  \n",
       "1                         0.0  \n",
       "2                         0.0  \n",
       "3                         1.0  \n",
       "4                         0.0  \n",
       "\n",
       "[5 rows x 29 columns]"
      ]
     },
     "execution_count": 29,
     "metadata": {},
     "output_type": "execute_result"
    }
   ],
   "source": [
    "X_train.head()"
   ]
  },
  {
   "cell_type": "markdown",
   "metadata": {
    "id": "NsQ4ksEkbfFv"
   },
   "source": [
    "Данные для линейных моделей готовы."
   ]
  },
  {
   "cell_type": "markdown",
   "metadata": {
    "id": "XiKmKx8hbuNO"
   },
   "source": [
    "Теперь обучим логистическую регрессию через GridSearchCV."
   ]
  },
  {
   "cell_type": "code",
   "execution_count": 30,
   "metadata": {
    "id": "P2Yv3uYtEEZO",
    "outputId": "8f982d23-9167-4797-f743-709091bfe4ed"
   },
   "outputs": [
    {
     "name": "stdout",
     "output_type": "stream",
     "text": [
      "Fitting 5 folds for each of 6 candidates, totalling 30 fits\n",
      "ROC-AUC: 0.8431100751115362\n"
     ]
    }
   ],
   "source": [
    "logreg_params = {'C': [100, 10, 1, 0.1, 0.01, 0.001]}\n",
    "c_vals = [100, 10, 1, 0.1, 0.01, 0.001]\n",
    "cv_logreg = GridSearchCV(estimator=LogisticRegression(random_state=777), \n",
    "                         param_grid=logreg_params,\n",
    "                         cv=5,\n",
    "                         refit=True, \n",
    "                         scoring='roc_auc',\n",
    "                         n_jobs=-1, \n",
    "                         verbose=10)\n",
    "\n",
    "cv_logreg.fit(X_train, y_train)\n",
    "print('ROC-AUC:', cv_logreg.best_score_)"
   ]
  },
  {
   "cell_type": "code",
   "execution_count": 31,
   "metadata": {
    "id": "sBIFDbBTM4B0",
    "outputId": "32527cd9-cc50-4f55-ff12-2c7b8b904546"
   },
   "outputs": [
    {
     "data": {
      "image/png": "[encoded data removed]",
      "text/plain": [
       "<Figure size 1080x576 with 1 Axes>"
      ]
     },
     "metadata": {
      "needs_background": "light"
     },
     "output_type": "display_data"
    }
   ],
   "source": [
    "plt.figure(figsize=(15,8))\n",
    "plt.title('Quality of logreg')\n",
    "plt.plot(c_vals, cv_logreg.cv_results_['mean_test_score'], label='mean values', color='red', lw=3)\n",
    "plt.xlabel('C')\n",
    "plt.ylabel('ROC-AUC')\n",
    "plt.show()"
   ]
  },
  {
   "cell_type": "markdown",
   "metadata": {
    "id": "9Tmnpz03O_U3"
   },
   "source": [
    "Теперь добавим взвешивание классов, чтобы бисбаланс учитывался. "
   ]
  },
  {
   "cell_type": "code",
   "execution_count": 32,
   "metadata": {
    "id": "oEFRF98mPHwP",
    "outputId": "b7b71244-e3da-456b-e79c-479a1af43f3c"
   },
   "outputs": [
    {
     "name": "stdout",
     "output_type": "stream",
     "text": [
      "Fitting 5 folds for each of 6 candidates, totalling 30 fits\n",
      "ROC-AUC: 0.8427654127216968\n"
     ]
    }
   ],
   "source": [
    "logreg_params = {'C': [100, 10, 1, 0.1, 0.01, 0.001]}\n",
    "c_vals = [100, 10, 1, 0.1, 0.01, 0.001]\n",
    "cv_logreg = GridSearchCV(estimator=LogisticRegression(class_weight='balanced', random_state=777), \n",
    "                         param_grid=logreg_params,\n",
    "                         cv=5,\n",
    "                         refit=True, \n",
    "                         scoring='roc_auc',\n",
    "                         n_jobs=-1, \n",
    "                         verbose=10)\n",
    "\n",
    "cv_logreg.fit(X_train, y_train)\n",
    "print('ROC-AUC:', cv_logreg.best_score_)"
   ]
  },
  {
   "cell_type": "code",
   "execution_count": 33,
   "metadata": {
    "id": "lYeLgEPDPRn_",
    "outputId": "fb145366-8be3-4672-83c7-97e7c044d141"
   },
   "outputs": [
    {
     "data": {
      "image/png": "[encoded data removed]",
      "text/plain": [
       "<Figure size 1080x576 with 1 Axes>"
      ]
     },
     "metadata": {
      "needs_background": "light"
     },
     "output_type": "display_data"
    }
   ],
   "source": [
    "plt.figure(figsize=(15,8))\n",
    "plt.title('Quality of logreg')\n",
    "plt.plot(c_vals, cv_logreg.cv_results_['mean_test_score'], label='mean values', color='red', lw=3)\n",
    "plt.xlabel('C')\n",
    "plt.ylabel('ROC-AUC')\n",
    "plt.show()"
   ]
  },
  {
   "cell_type": "markdown",
   "metadata": {
    "id": "36729TOQEEZR"
   },
   "source": [
    "Лучшее значение ROC-AUC = 0.843 при C = 100."
   ]
  },
  {
   "cell_type": "markdown",
   "metadata": {
    "id": "BlTeVy7fEEZR"
   },
   "source": [
    "# Применение градиентного бустинга (2 балла)\n",
    "\n",
    "Если вы хотите получить баллы за точный ответ, то стоит попробовать градиентный бустинг. Часто градиентный бустинг с параметрами по умолчанию даст вам 80% результата за 0% усилий.\n",
    "\n",
    "Мы будем использовать catboost, поэтому нам не надо кодировать категориальные признаки. Catboost сделает это сам (в .fit() надо передать cat_features=cat_cols). А численные признаки нормировать для моделей, основанных на деревьях не нужно.\n",
    "\n",
    "1) Разделите выборку на train/valid. Протестируйте catboost cо стандартными параметрами.\n",
    "\n",
    "2) Протестируйте разные занчения параметроа количества деревьев и learning_rate'а и выберите лучшую по метрике ROC-AUC комбинацию. \n",
    "\n",
    "(Дополнительно) Есть некоторые сложности с тем, чтобы использовать CatBoostClassifier вместе с GridSearchCV, поэтому мы не просим использовать кроссвалидацию. Но можете попробовать)"
   ]
  },
  {
   "cell_type": "markdown",
   "metadata": {
    "id": "ShLTh1PPSIHo"
   },
   "source": [
    "Разделим данные на трейн и валидацию"
   ]
  },
  {
   "cell_type": "code",
   "execution_count": 41,
   "metadata": {
    "id": "dkgasSzYSHDX"
   },
   "outputs": [],
   "source": [
    "X_train = data_train_original.drop(['Churn'], axis=1)\n",
    "y_train = data_train_original['Churn']\n",
    "X_test = data_test_original"
   ]
  },
  {
   "cell_type": "code",
   "execution_count": 42,
   "metadata": {
    "id": "t6e9zQF4Su73"
   },
   "outputs": [],
   "source": [
    "X_train, X_valid, y_train, y_valid = train_test_split(X_train, y_train, test_size=.75, random_state=777, stratify=y_train)\n",
    "cat_features = X_train.select_dtypes(include='object').columns.to_list()"
   ]
  },
  {
   "cell_type": "markdown",
   "metadata": {
    "id": "F7iY559HW8sV"
   },
   "source": [
    "Протестируем catboost cо стандартными параметрами."
   ]
  },
  {
   "cell_type": "code",
   "execution_count": 43,
   "metadata": {
    "id": "BFxMcjddT3Fn"
   },
   "outputs": [],
   "source": [
    "from catboost import CatBoostClassifier"
   ]
  },
  {
   "cell_type": "code",
   "execution_count": 44,
   "metadata": {
    "id": "ZjCxdYbIU30z",
    "outputId": "ab436f9d-6ed1-4193-ea14-707677f5e8d2"
   },
   "outputs": [
    {
     "data": {
      "text/plain": [
       "<catboost.core.CatBoostClassifier at 0x252c949d2e0>"
      ]
     },
     "execution_count": 44,
     "metadata": {},
     "output_type": "execute_result"
    }
   ],
   "source": [
    "catboost = CatBoostClassifier(cat_features=cat_features, random_seed=777, verbose=False)\n",
    "catboost.fit(X_train, y_train)"
   ]
  },
  {
   "cell_type": "code",
   "execution_count": 45,
   "metadata": {
    "id": "XY8VfCNBWHsP",
    "outputId": "a6104651-0009-43ef-91a4-6859ac6f210d"
   },
   "outputs": [
    {
     "name": "stdout",
     "output_type": "stream",
     "text": [
      "ROC-AUC train: 0.8991614342856464\n",
      "ROC-AUC valid: 0.839290279897414\n"
     ]
    }
   ],
   "source": [
    "y_train_predicted = catboost.predict_proba(X_train)[:, 1]\n",
    "y_valid_predicted = catboost.predict_proba(X_valid)[:, 1]\n",
    "\n",
    "print('ROC-AUC train:', roc_auc_score(y_train, y_train_predicted))\n",
    "print('ROC-AUC valid:', roc_auc_score(y_valid, y_valid_predicted))"
   ]
  },
  {
   "cell_type": "markdown",
   "metadata": {
    "id": "fAuSjGJ1W_ED"
   },
   "source": [
    "Поучили хороший результат"
   ]
  },
  {
   "cell_type": "markdown",
   "metadata": {
    "id": "kr7SWdMhXMI5"
   },
   "source": [
    "Теперь подберем оптимальные значения количества деревьев и learning_rate'а"
   ]
  },
  {
   "cell_type": "code",
   "execution_count": 46,
   "metadata": {
    "id": "3ogqPbwEXU1E",
    "outputId": "939b7f37-e388-4f32-a381-3bb87f12925c"
   },
   "outputs": [
    {
     "name": "stdout",
     "output_type": "stream",
     "text": [
      "Лучшее значение ROC-AUC на валидации: 0.839290279897414\n",
      "learning_rate: 1e-05\n",
      "num_trees: 10\n"
     ]
    }
   ],
   "source": [
    "best_model = None\n",
    "best_result = 0\n",
    "best_lr = 0\n",
    "best_num_trees = 0\n",
    "\n",
    "for lr in [0.00001, 0.0001, 0.001, 0.01]:\n",
    "    for tree in [10, 50, 100, 150, 200, 300]:\n",
    "        catboost = CatBoostClassifier(learning_rate=lr, num_trees=tree, \n",
    "                                      cat_features=cat_features, random_seed=777, \n",
    "                                      verbose=False, loss_function='Logloss',\n",
    "                                      eval_metric='AUC')\n",
    "        catboost.fit(X_train, y_train)\n",
    "        y_pred = catboost.predict_proba(X_valid)[:, 1]\n",
    "        result = roc_auc_score(y_valid, y_valid_predicted)\n",
    "        if result > best_result:\n",
    "            best_result = result\n",
    "            best_model = catboost\n",
    "            best_lr = lr\n",
    "            best_num_trees = tree\n",
    "\n",
    "print('Лучшее значение ROC-AUC на валидации:', best_result)\n",
    "print('learning_rate:', best_lr)\n",
    "print('num_trees:', best_num_trees)"
   ]
  },
  {
   "cell_type": "markdown",
   "metadata": {
    "id": "844fCvqfbpSg"
   },
   "source": [
    "Взвесим классы"
   ]
  },
  {
   "cell_type": "code",
   "execution_count": 47,
   "metadata": {
    "id": "xDW_bx5GbtYH",
    "outputId": "6ee57fd4-61d5-446c-f25c-eefc477447ad"
   },
   "outputs": [
    {
     "name": "stdout",
     "output_type": "stream",
     "text": [
      "Лучшее значение ROC-AUC на валидации: 0.839290279897414\n",
      "learning_rate: 1e-05\n",
      "num_trees: 10\n"
     ]
    }
   ],
   "source": [
    "best_model = None\n",
    "best_result = 0\n",
    "best_lr = 0\n",
    "best_num_trees = 0\n",
    "\n",
    "for lr in [0.00001, 0.0001, 0.001, 0.01]:\n",
    "    for tree in [10, 50, 100, 150, 200, 300]:\n",
    "        catboost = CatBoostClassifier(learning_rate=lr, num_trees=tree, \n",
    "                                      cat_features=cat_features, random_seed=777, \n",
    "                                      verbose=False, loss_function='Logloss',\n",
    "                                      eval_metric='AUC', auto_class_weights='Balanced')\n",
    "        catboost.fit(X_train, y_train)\n",
    "        y_pred = catboost.predict_proba(X_valid)[:, 1]\n",
    "        result = roc_auc_score(y_valid, y_valid_predicted)\n",
    "        if result > best_result:\n",
    "            best_result = result\n",
    "            best_model = catboost\n",
    "            best_lr = lr\n",
    "            best_num_trees = tree\n",
    "\n",
    "print('Лучшее значение ROC-AUC на валидации:', best_result)\n",
    "print('learning_rate:', best_lr)\n",
    "print('num_trees:', best_num_trees)"
   ]
  },
  {
   "cell_type": "markdown",
   "metadata": {
    "id": "syWY2KD7cilu"
   },
   "source": [
    "Теперь попробуем использовать GridSearch и кросс-валидацию."
   ]
  },
  {
   "cell_type": "code",
   "execution_count": 48,
   "metadata": {
    "id": "xd5jZiH1conw"
   },
   "outputs": [],
   "source": [
    "X_train = data_train_original.drop(['Churn'], axis=1)\n",
    "y_train = data_train_original['Churn']\n",
    "X_test = data_test_original"
   ]
  },
  {
   "cell_type": "code",
   "execution_count": 49,
   "metadata": {
    "id": "FhIJ37cGnXZQ",
    "outputId": "d4b1b48e-d06c-4556-ef20-c2f9b8e5c4f0"
   },
   "outputs": [
    {
     "name": "stderr",
     "output_type": "stream",
     "text": [
      "c:\\users\\vbadmaev1\\appdata\\local\\programs\\python\\python39\\lib\\site-packages\\sklearn\\model_selection\\_validation.py:378: FitFailedWarning: \n",
      "60 fits failed out of a total of 180.\n",
      "The score on these train-test partitions for these parameters will be set to nan.\n",
      "If these failures are not expected, you can try to debug them by setting error_score='raise'.\n",
      "\n",
      "Below are more details about the failures:\n",
      "--------------------------------------------------------------------------------\n",
      "60 fits failed with the following error:\n",
      "Traceback (most recent call last):\n",
      "  File \"c:\\users\\vbadmaev1\\appdata\\local\\programs\\python\\python39\\lib\\site-packages\\sklearn\\model_selection\\_validation.py\", line 686, in _fit_and_score\n",
      "    estimator.fit(X_train, y_train, **fit_params)\n",
      "  File \"c:\\users\\vbadmaev1\\appdata\\local\\programs\\python\\python39\\lib\\site-packages\\catboost\\core.py\", line 5128, in fit\n",
      "    self._fit(X, y, cat_features, text_features, embedding_features, None, sample_weight, None, None, None, None, baseline, use_best_model,\n",
      "  File \"c:\\users\\vbadmaev1\\appdata\\local\\programs\\python\\python39\\lib\\site-packages\\catboost\\core.py\", line 2339, in _fit\n",
      "    train_params = self._prepare_train_params(\n",
      "  File \"c:\\users\\vbadmaev1\\appdata\\local\\programs\\python\\python39\\lib\\site-packages\\catboost\\core.py\", line 2266, in _prepare_train_params\n",
      "    _check_train_params(params)\n",
      "  File \"_catboost.pyx\", line 6080, in _catboost._check_train_params\n",
      "  File \"_catboost.pyx\", line 6099, in _catboost._check_train_params\n",
      "_catboost.CatBoostError: C:/Program Files (x86)/Go Agent/pipelines/BuildMaster/catboost.git/catboost/private/libs/options/oblivious_tree_options.cpp:125: Maximum tree depth is 16\n",
      "\n",
      "  warnings.warn(some_fits_failed_message, FitFailedWarning)\n",
      "c:\\users\\vbadmaev1\\appdata\\local\\programs\\python\\python39\\lib\\site-packages\\sklearn\\model_selection\\_search.py:952: UserWarning: One or more of the test scores are non-finite: [0.81191594 0.81278666 0.83042209 0.82946112 0.83356616 0.84389623\n",
      " 0.83050756 0.83495035 0.84550933 0.83045934 0.83762857 0.84747015\n",
      " 0.81596951 0.81670207 0.8224748  0.83285001 0.83801599 0.84152217\n",
      " 0.83344472 0.83883231 0.84156976 0.83387105 0.83987803 0.84090874\n",
      "        nan        nan        nan        nan        nan        nan\n",
      "        nan        nan        nan        nan        nan        nan]\n",
      "  warnings.warn(\n"
     ]
    },
    {
     "name": "stdout",
     "output_type": "stream",
     "text": [
      "ROC-AUC: 0.8474701527029579\n"
     ]
    }
   ],
   "source": [
    "params = {'learning_rate': [0.0001, 0.001, 0.01],\n",
    "          #'num_trees': range(5, 100, 10),\n",
    "          'iterations': [100, 200, 300, 500],\n",
    "          'depth': [5, 10, 50],\n",
    "          }\n",
    "\n",
    "cb_model_2 = CatBoostClassifier(cat_features=cat_features, random_seed=777, \n",
    "                              verbose=False, loss_function='Logloss',\n",
    "                              eval_metric='AUC')\n",
    "cv_cb_2 = GridSearchCV(estimator=cb_model_2, \n",
    "                     param_grid=params,\n",
    "                     cv=5,\n",
    "                     refit=True, \n",
    "                     scoring='roc_auc',\n",
    "                     n_jobs=-1, \n",
    "                     verbose=False)\n",
    "\n",
    "cv_cb_2.fit(X_train, y_train)\n",
    "print('ROC-AUC:', cv_cb_2.best_score_)"
   ]
  },
  {
   "cell_type": "code",
   "execution_count": 50,
   "metadata": {
    "id": "8wFaW5-VsgxB",
    "outputId": "09cce5c7-1f7c-4fdb-a4b6-3def29bd8596"
   },
   "outputs": [
    {
     "name": "stdout",
     "output_type": "stream",
     "text": [
      "\n",
      "bestTest = 0.8413294356\n",
      "bestIteration = 74\n",
      "\n",
      "Metric AUC is not calculated on train by default. To calculate this metric on train, add hints=skip_train~false to metric parameters.\n",
      "0:\tloss: 0.8413294\tbest: 0.8413294 (0)\ttotal: 1.85s\tremaining: 1m 4s\n",
      "\n",
      "bestTest = 0.8414225802\n",
      "bestIteration = 69\n",
      "\n",
      "Metric AUC is not calculated on train by default. To calculate this metric on train, add hints=skip_train~false to metric parameters.\n",
      "1:\tloss: 0.8414226\tbest: 0.8414226 (1)\ttotal: 3.68s\tremaining: 1m 2s\n",
      "\n",
      "bestTest = 0.8653511789\n",
      "bestIteration = 99\n",
      "\n",
      "Metric AUC is not calculated on train by default. To calculate this metric on train, add hints=skip_train~false to metric parameters.\n",
      "2:\tloss: 0.8653512\tbest: 0.8653512 (2)\ttotal: 5.47s\tremaining: 1m\n",
      "\n",
      "bestTest = 0.8639707287\n",
      "bestIteration = 40\n",
      "\n",
      "Metric AUC is not calculated on train by default. To calculate this metric on train, add hints=skip_train~false to metric parameters.\n",
      "3:\tloss: 0.8639707\tbest: 0.8653512 (2)\ttotal: 9.69s\tremaining: 1m 17s\n",
      "\n",
      "bestTest = 0.8661870916\n",
      "bestIteration = 41\n",
      "\n",
      "Metric AUC is not calculated on train by default. To calculate this metric on train, add hints=skip_train~false to metric parameters.\n",
      "4:\tloss: 0.8661871\tbest: 0.8661871 (4)\ttotal: 13.8s\tremaining: 1m 25s\n",
      "\n",
      "bestTest = 0.8706030991\n",
      "bestIteration = 195\n",
      "\n",
      "Metric AUC is not calculated on train by default. To calculate this metric on train, add hints=skip_train~false to metric parameters.\n",
      "5:\tloss: 0.8706031\tbest: 0.8706031 (5)\ttotal: 18.2s\tremaining: 1m 30s\n",
      "\n",
      "bestTest = 0.8639707287\n",
      "bestIteration = 40\n",
      "\n",
      "Metric AUC is not calculated on train by default. To calculate this metric on train, add hints=skip_train~false to metric parameters.\n",
      "6:\tloss: 0.8639707\tbest: 0.8706031 (5)\ttotal: 24.4s\tremaining: 1m 41s\n",
      "\n",
      "bestTest = 0.8661870916\n",
      "bestIteration = 41\n",
      "\n",
      "Metric AUC is not calculated on train by default. To calculate this metric on train, add hints=skip_train~false to metric parameters.\n",
      "7:\tloss: 0.8661871\tbest: 0.8706031 (5)\ttotal: 30.4s\tremaining: 1m 46s\n",
      "\n",
      "bestTest = 0.8720217624\n",
      "bestIteration = 289\n",
      "\n",
      "Metric AUC is not calculated on train by default. To calculate this metric on train, add hints=skip_train~false to metric parameters.\n",
      "8:\tloss: 0.8720218\tbest: 0.8720218 (8)\ttotal: 36.7s\tremaining: 1m 50s\n",
      "\n",
      "bestTest = 0.8639707287\n",
      "bestIteration = 40\n",
      "\n",
      "Metric AUC is not calculated on train by default. To calculate this metric on train, add hints=skip_train~false to metric parameters.\n",
      "9:\tloss: 0.8639707\tbest: 0.8720218 (8)\ttotal: 46.7s\tremaining: 2m 1s\n",
      "\n",
      "bestTest = 0.8661870916\n",
      "bestIteration = 41\n",
      "\n",
      "Metric AUC is not calculated on train by default. To calculate this metric on train, add hints=skip_train~false to metric parameters.\n",
      "10:\tloss: 0.8661871\tbest: 0.8720218 (8)\ttotal: 56.6s\tremaining: 2m 8s\n",
      "\n",
      "bestTest = 0.8722940311\n",
      "bestIteration = 349\n",
      "\n",
      "Metric AUC is not calculated on train by default. To calculate this metric on train, add hints=skip_train~false to metric parameters.\n",
      "11:\tloss: 0.8722940\tbest: 0.8722940 (11)\ttotal: 1m 6s\tremaining: 2m 13s\n",
      "\n",
      "bestTest = 0.8458529176\n",
      "bestIteration = 39\n",
      "\n",
      "Metric AUC is not calculated on train by default. To calculate this metric on train, add hints=skip_train~false to metric parameters.\n",
      "12:\tloss: 0.8458529\tbest: 0.8722940 (11)\ttotal: 1m 10s\tremaining: 2m 5s\n",
      "\n",
      "bestTest = 0.84462532\n",
      "bestIteration = 99\n",
      "\n",
      "Metric AUC is not calculated on train by default. To calculate this metric on train, add hints=skip_train~false to metric parameters.\n",
      "13:\tloss: 0.8446253\tbest: 0.8722940 (11)\ttotal: 1m 14s\tremaining: 1m 57s\n",
      "\n",
      "bestTest = 0.8523324353\n",
      "bestIteration = 99\n",
      "\n",
      "Metric AUC is not calculated on train by default. To calculate this metric on train, add hints=skip_train~false to metric parameters.\n",
      "14:\tloss: 0.8523324\tbest: 0.8722940 (11)\ttotal: 1m 18s\tremaining: 1m 49s\n",
      "\n",
      "bestTest = 0.8648042531\n",
      "bestIteration = 51\n",
      "\n",
      "Metric AUC is not calculated on train by default. To calculate this metric on train, add hints=skip_train~false to metric parameters.\n",
      "15:\tloss: 0.8648043\tbest: 0.8722940 (11)\ttotal: 1m 24s\tremaining: 1m 46s\n",
      "\n",
      "bestTest = 0.8626834231\n",
      "bestIteration = 197\n",
      "\n",
      "Metric AUC is not calculated on train by default. To calculate this metric on train, add hints=skip_train~false to metric parameters.\n",
      "16:\tloss: 0.8626834\tbest: 0.8722940 (11)\ttotal: 1m 31s\tremaining: 1m 42s\n",
      "\n",
      "bestTest = 0.869853166\n",
      "bestIteration = 91\n",
      "\n",
      "Metric AUC is not calculated on train by default. To calculate this metric on train, add hints=skip_train~false to metric parameters.\n",
      "17:\tloss: 0.8698532\tbest: 0.8722940 (11)\ttotal: 1m 41s\tremaining: 1m 41s\n",
      "\n",
      "bestTest = 0.8648042531\n",
      "bestIteration = 51\n",
      "\n",
      "Metric AUC is not calculated on train by default. To calculate this metric on train, add hints=skip_train~false to metric parameters.\n",
      "18:\tloss: 0.8648043\tbest: 0.8722940 (11)\ttotal: 1m 51s\tremaining: 1m 40s\n",
      "\n",
      "bestTest = 0.8635193359\n",
      "bestIteration = 299\n",
      "\n",
      "Metric AUC is not calculated on train by default. To calculate this metric on train, add hints=skip_train~false to metric parameters.\n",
      "19:\tloss: 0.8635193\tbest: 0.8722940 (11)\ttotal: 2m 2s\tremaining: 1m 38s\n",
      "\n",
      "bestTest = 0.869853166\n",
      "bestIteration = 91\n",
      "\n",
      "Metric AUC is not calculated on train by default. To calculate this metric on train, add hints=skip_train~false to metric parameters.\n",
      "20:\tloss: 0.8698532\tbest: 0.8722940 (11)\ttotal: 2m 17s\tremaining: 1m 38s\n",
      "\n",
      "bestTest = 0.8648042531\n",
      "bestIteration = 51\n",
      "\n",
      "Metric AUC is not calculated on train by default. To calculate this metric on train, add hints=skip_train~false to metric parameters.\n",
      "21:\tloss: 0.8648043\tbest: 0.8722940 (11)\ttotal: 2m 34s\tremaining: 1m 38s\n",
      "\n",
      "bestTest = 0.8658360083\n",
      "bestIteration = 498\n",
      "\n",
      "Metric AUC is not calculated on train by default. To calculate this metric on train, add hints=skip_train~false to metric parameters.\n",
      "22:\tloss: 0.8658360\tbest: 0.8722940 (11)\ttotal: 2m 52s\tremaining: 1m 37s\n",
      "\n",
      "bestTest = 0.869853166\n",
      "bestIteration = 91\n",
      "\n",
      "Metric AUC is not calculated on train by default. To calculate this metric on train, add hints=skip_train~false to metric parameters.\n",
      "23:\tloss: 0.8698532\tbest: 0.8722940 (11)\ttotal: 3m 17s\tremaining: 1m 38s\n",
      "Estimating final quality...\n",
      "Training on fold [0/5]\n",
      "\n",
      "bestTest = 0.8230283255\n",
      "bestIteration = 498\n",
      "\n",
      "Training on fold [1/5]\n",
      "\n",
      "bestTest = 0.851601407\n",
      "bestIteration = 485\n",
      "\n",
      "Training on fold [2/5]\n",
      "\n",
      "bestTest = 0.8463343516\n",
      "bestIteration = 414\n",
      "\n",
      "Training on fold [3/5]\n",
      "\n",
      "bestTest = 0.844262523\n",
      "bestIteration = 496\n",
      "\n",
      "Training on fold [4/5]\n",
      "\n",
      "bestTest = 0.8705535711\n",
      "bestIteration = 360\n",
      "\n",
      "{'depth': 5, 'iterations': 500, 'learning_rate': 0.01}\n"
     ]
    }
   ],
   "source": [
    "params = {'learning_rate': [0.0001, 0.001, 0.01],\n",
    "          'iterations': [100, 200, 300, 500],\n",
    "          'depth': [5, 10, 50],\n",
    "          }\n",
    "\n",
    "cb_model_3 = CatBoostClassifier(cat_features=cat_features, random_seed=777, \n",
    "                              verbose=False, loss_function='Logloss',\n",
    "                              eval_metric='AUC')\n",
    "\n",
    "\n",
    "gs_res = cb_model_3.grid_search(params, X_train, y_train, cv=5, refit=True)\n",
    "print(gs_res['params'])"
   ]
  },
  {
   "cell_type": "code",
   "execution_count": 51,
   "metadata": {
    "id": "3aOPxyE2tLWc",
    "outputId": "fc9a4f04-4951-49c5-af4e-b7c1abf601fb"
   },
   "outputs": [
    {
     "data": {
      "text/plain": [
       "0.8474701527029579"
      ]
     },
     "execution_count": 51,
     "metadata": {},
     "output_type": "execute_result"
    }
   ],
   "source": [
    "from sklearn.model_selection import cross_val_score\n",
    "\n",
    "cross_val_score(cb_model_3, X_train, y_train, scoring='roc_auc', cv=5).mean()"
   ]
  },
  {
   "cell_type": "markdown",
   "metadata": {
    "id": "rf4Kjt96EEZU"
   },
   "source": [
    "Выпишите, какое лучшее качество и с какими параметрами вам удалось получить"
   ]
  },
  {
   "cell_type": "markdown",
   "metadata": {
    "id": "d2d9GolXEEZV"
   },
   "source": [
    "ВАШ ОТВЕТ"
   ]
  },
  {
   "cell_type": "markdown",
   "metadata": {
    "id": "thULm1dS93cK"
   },
   "source": [
    "Лучший результат при кросс-валидации: 0.8474701527029579\n",
    "\n",
    "Лучший результат на тесте: 0.85048"
   ]
  },
  {
   "cell_type": "markdown",
   "metadata": {
    "id": "dDMXbvNZEEZV"
   },
   "source": [
    "# Предсказания"
   ]
  },
  {
   "cell_type": "code",
   "execution_count": 52,
   "metadata": {
    "id": "G_P4wFNaEEZW"
   },
   "outputs": [],
   "source": [
    "best_model = cb_model_3"
   ]
  },
  {
   "cell_type": "code",
   "execution_count": 54,
   "metadata": {
    "id": "FfSufx0CEEZZ"
   },
   "outputs": [],
   "source": [
    "#X_test = pd.read_csv('./test.csv')\n",
    "submission = pd.read_csv('submission.csv', index_col='Id')\n",
    "\n",
    "submission['Churn'] = best_model.predict_proba(X_test)[:, 1]\n",
    "submission.to_csv('my_submission.csv')"
   ]
  },
  {
   "cell_type": "markdown",
   "metadata": {
    "id": "tzGirrp5l2I-"
   },
   "source": [
    "Лучшее решение отправьте в Stepik."
   ]
  }
 ],
 "metadata": {
  "kernelspec": {
   "display_name": "Python 3",
   "language": "python",
   "name": "python3"
  },
  "language_info": {
   "codemirror_mode": {
    "name": "ipython",
    "version": 3
   },
   "file_extension": ".py",
   "mimetype": "text/x-python",
   "name": "python",
   "nbconvert_exporter": "python",
   "pygments_lexer": "ipython3",
   "version": "3.9.0"
  }
 },
 "nbformat": 4,
 "nbformat_minor": 4
}
