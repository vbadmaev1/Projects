{
 "cells": [
  {
   "cell_type": "code",
   "execution_count": 1,
   "metadata": {},
   "outputs": [],
   "source": [
    "import matplotlib.pyplot as plt\n",
    "import numpy as np\n",
    "import pandas as pd\n",
    "import pandas_datareader as pdr\n",
    "from matplotlib.ticker import FuncFormatter"
   ]
  },
  {
   "cell_type": "code",
   "execution_count": 2,
   "metadata": {},
   "outputs": [],
   "source": [
    "from pypfopt.efficient_frontier import EfficientFrontier\n",
    "from pypfopt import risk_models\n",
    "from pypfopt import expected_returns\n",
    "from pypfopt.cla import CLA\n",
    "import pypfopt.plotting as pplt\n",
    "from matplotlib.ticker import FuncFormatter"
   ]
  },
  {
   "cell_type": "code",
   "execution_count": 3,
   "metadata": {},
   "outputs": [],
   "source": [
    "from alpha_vantage.timeseries import TimeSeries\n",
    "from pypfopt.discrete_allocation import DiscreteAllocation, get_latest_prices"
   ]
  },
  {
   "cell_type": "markdown",
   "metadata": {},
   "source": [
    "Внесем основные акции (входящие в индекс МосБиржи) и облигации федерального займа"
   ]
  },
  {
   "cell_type": "code",
   "execution_count": 4,
   "metadata": {},
   "outputs": [],
   "source": [
    "bonds_tickers = ['SU26207RMFS9', 'SU26212RMFS9', 'SU26218RMFS6', 'SU26219RMFS4', \n",
    "                 'SU26221RMFS0', 'SU26224RMFS4', 'SU26225RMFS1', 'SU26226RMFS9',\n",
    "                 'SU26228RMFS5', 'SU26229RMFS3', 'SU26230RMFS1', 'SU26231RMFS9', 'SU26232RMFS7'] # тикеры облигаций"
   ]
  },
  {
   "cell_type": "code",
   "execution_count": 5,
   "metadata": {},
   "outputs": [],
   "source": [
    "tickers = ['OZON', 'VKCO', 'GAZP', 'GMKN', 'CHMF', 'TATN', 'YNDX', 'HHRU', 'LKOH', 'MVID', 'MGNT', \n",
    "           'MTSS', 'ROSN', 'ENPG', 'TRUR', 'SBER', 'NVTK', 'SNGS', 'PHOR', 'NLMK', 'ALRS', 'AFLT', \n",
    "           'POSI', 'LIFE', 'FIXP', 'AFKS', 'AFLT', 'AGRO', 'ENPG', 'FEES', 'FIVE', 'HYDR', 'PIKK', \n",
    "           'POSI', 'SELG', 'SGZH', 'TCSG', 'VTBR', 'VEON-RX', 'SMLT', 'POLY', 'PLZL', 'SNGSP', \n",
    "           'LENT', 'MTLR', 'BELU', 'RENI', 'RTKM', 'RUAL', 'FLOT', 'ENPG', 'UPRO']"
   ]
  },
  {
   "cell_type": "code",
   "execution_count": 6,
   "metadata": {},
   "outputs": [],
   "source": [
    "news = tickers + bonds_tickers"
   ]
  },
  {
   "cell_type": "markdown",
   "metadata": {},
   "source": [
    "Загружаем котировки с отчетного периода с сайта мосбиржи"
   ]
  },
  {
   "cell_type": "code",
   "execution_count": 7,
   "metadata": {},
   "outputs": [
    {
     "name": "stderr",
     "output_type": "stream",
     "text": [
      "<ipython-input-7-b0fbbe18c8d6>:1: FutureWarning: The frame.append method is deprecated and will be removed from pandas in a future version. Use pandas.concat instead.\n",
      "  news_quotes = pdr.data.DataReader(news, 'moex', start='2017-09-01', end='2019-09-01')\n",
      "<ipython-input-7-b0fbbe18c8d6>:1: FutureWarning: The frame.append method is deprecated and will be removed from pandas in a future version. Use pandas.concat instead.\n",
      "  news_quotes = pdr.data.DataReader(news, 'moex', start='2017-09-01', end='2019-09-01')\n",
      "<ipython-input-7-b0fbbe18c8d6>:1: FutureWarning: The frame.append method is deprecated and will be removed from pandas in a future version. Use pandas.concat instead.\n",
      "  news_quotes = pdr.data.DataReader(news, 'moex', start='2017-09-01', end='2019-09-01')\n",
      "<ipython-input-7-b0fbbe18c8d6>:1: FutureWarning: The frame.append method is deprecated and will be removed from pandas in a future version. Use pandas.concat instead.\n",
      "  news_quotes = pdr.data.DataReader(news, 'moex', start='2017-09-01', end='2019-09-01')\n",
      "<ipython-input-7-b0fbbe18c8d6>:1: FutureWarning: The frame.append method is deprecated and will be removed from pandas in a future version. Use pandas.concat instead.\n",
      "  news_quotes = pdr.data.DataReader(news, 'moex', start='2017-09-01', end='2019-09-01')\n",
      "<ipython-input-7-b0fbbe18c8d6>:1: FutureWarning: The frame.append method is deprecated and will be removed from pandas in a future version. Use pandas.concat instead.\n",
      "  news_quotes = pdr.data.DataReader(news, 'moex', start='2017-09-01', end='2019-09-01')\n",
      "<ipython-input-7-b0fbbe18c8d6>:1: FutureWarning: The frame.append method is deprecated and will be removed from pandas in a future version. Use pandas.concat instead.\n",
      "  news_quotes = pdr.data.DataReader(news, 'moex', start='2017-09-01', end='2019-09-01')\n",
      "<ipython-input-7-b0fbbe18c8d6>:1: FutureWarning: The frame.append method is deprecated and will be removed from pandas in a future version. Use pandas.concat instead.\n",
      "  news_quotes = pdr.data.DataReader(news, 'moex', start='2017-09-01', end='2019-09-01')\n",
      "<ipython-input-7-b0fbbe18c8d6>:1: FutureWarning: The frame.append method is deprecated and will be removed from pandas in a future version. Use pandas.concat instead.\n",
      "  news_quotes = pdr.data.DataReader(news, 'moex', start='2017-09-01', end='2019-09-01')\n",
      "<ipython-input-7-b0fbbe18c8d6>:1: FutureWarning: The frame.append method is deprecated and will be removed from pandas in a future version. Use pandas.concat instead.\n",
      "  news_quotes = pdr.data.DataReader(news, 'moex', start='2017-09-01', end='2019-09-01')\n",
      "<ipython-input-7-b0fbbe18c8d6>:1: FutureWarning: The frame.append method is deprecated and will be removed from pandas in a future version. Use pandas.concat instead.\n",
      "  news_quotes = pdr.data.DataReader(news, 'moex', start='2017-09-01', end='2019-09-01')\n",
      "<ipython-input-7-b0fbbe18c8d6>:1: FutureWarning: The frame.append method is deprecated and will be removed from pandas in a future version. Use pandas.concat instead.\n",
      "  news_quotes = pdr.data.DataReader(news, 'moex', start='2017-09-01', end='2019-09-01')\n",
      "<ipython-input-7-b0fbbe18c8d6>:1: FutureWarning: The frame.append method is deprecated and will be removed from pandas in a future version. Use pandas.concat instead.\n",
      "  news_quotes = pdr.data.DataReader(news, 'moex', start='2017-09-01', end='2019-09-01')\n",
      "<ipython-input-7-b0fbbe18c8d6>:1: FutureWarning: The frame.append method is deprecated and will be removed from pandas in a future version. Use pandas.concat instead.\n",
      "  news_quotes = pdr.data.DataReader(news, 'moex', start='2017-09-01', end='2019-09-01')\n",
      "<ipython-input-7-b0fbbe18c8d6>:1: FutureWarning: The frame.append method is deprecated and will be removed from pandas in a future version. Use pandas.concat instead.\n",
      "  news_quotes = pdr.data.DataReader(news, 'moex', start='2017-09-01', end='2019-09-01')\n",
      "<ipython-input-7-b0fbbe18c8d6>:1: FutureWarning: The frame.append method is deprecated and will be removed from pandas in a future version. Use pandas.concat instead.\n",
      "  news_quotes = pdr.data.DataReader(news, 'moex', start='2017-09-01', end='2019-09-01')\n",
      "<ipython-input-7-b0fbbe18c8d6>:1: FutureWarning: The frame.append method is deprecated and will be removed from pandas in a future version. Use pandas.concat instead.\n",
      "  news_quotes = pdr.data.DataReader(news, 'moex', start='2017-09-01', end='2019-09-01')\n",
      "<ipython-input-7-b0fbbe18c8d6>:1: FutureWarning: The frame.append method is deprecated and will be removed from pandas in a future version. Use pandas.concat instead.\n",
      "  news_quotes = pdr.data.DataReader(news, 'moex', start='2017-09-01', end='2019-09-01')\n",
      "<ipython-input-7-b0fbbe18c8d6>:1: FutureWarning: The frame.append method is deprecated and will be removed from pandas in a future version. Use pandas.concat instead.\n",
      "  news_quotes = pdr.data.DataReader(news, 'moex', start='2017-09-01', end='2019-09-01')\n",
      "<ipython-input-7-b0fbbe18c8d6>:1: FutureWarning: The frame.append method is deprecated and will be removed from pandas in a future version. Use pandas.concat instead.\n",
      "  news_quotes = pdr.data.DataReader(news, 'moex', start='2017-09-01', end='2019-09-01')\n",
      "<ipython-input-7-b0fbbe18c8d6>:1: FutureWarning: The frame.append method is deprecated and will be removed from pandas in a future version. Use pandas.concat instead.\n",
      "  news_quotes = pdr.data.DataReader(news, 'moex', start='2017-09-01', end='2019-09-01')\n",
      "<ipython-input-7-b0fbbe18c8d6>:1: FutureWarning: The frame.append method is deprecated and will be removed from pandas in a future version. Use pandas.concat instead.\n",
      "  news_quotes = pdr.data.DataReader(news, 'moex', start='2017-09-01', end='2019-09-01')\n",
      "<ipython-input-7-b0fbbe18c8d6>:1: FutureWarning: The frame.append method is deprecated and will be removed from pandas in a future version. Use pandas.concat instead.\n",
      "  news_quotes = pdr.data.DataReader(news, 'moex', start='2017-09-01', end='2019-09-01')\n",
      "<ipython-input-7-b0fbbe18c8d6>:1: FutureWarning: The frame.append method is deprecated and will be removed from pandas in a future version. Use pandas.concat instead.\n",
      "  news_quotes = pdr.data.DataReader(news, 'moex', start='2017-09-01', end='2019-09-01')\n",
      "<ipython-input-7-b0fbbe18c8d6>:1: FutureWarning: The frame.append method is deprecated and will be removed from pandas in a future version. Use pandas.concat instead.\n",
      "  news_quotes = pdr.data.DataReader(news, 'moex', start='2017-09-01', end='2019-09-01')\n",
      "<ipython-input-7-b0fbbe18c8d6>:1: FutureWarning: The frame.append method is deprecated and will be removed from pandas in a future version. Use pandas.concat instead.\n",
      "  news_quotes = pdr.data.DataReader(news, 'moex', start='2017-09-01', end='2019-09-01')\n",
      "<ipython-input-7-b0fbbe18c8d6>:1: FutureWarning: The frame.append method is deprecated and will be removed from pandas in a future version. Use pandas.concat instead.\n",
      "  news_quotes = pdr.data.DataReader(news, 'moex', start='2017-09-01', end='2019-09-01')\n",
      "<ipython-input-7-b0fbbe18c8d6>:1: FutureWarning: The frame.append method is deprecated and will be removed from pandas in a future version. Use pandas.concat instead.\n",
      "  news_quotes = pdr.data.DataReader(news, 'moex', start='2017-09-01', end='2019-09-01')\n",
      "<ipython-input-7-b0fbbe18c8d6>:1: FutureWarning: The frame.append method is deprecated and will be removed from pandas in a future version. Use pandas.concat instead.\n",
      "  news_quotes = pdr.data.DataReader(news, 'moex', start='2017-09-01', end='2019-09-01')\n",
      "<ipython-input-7-b0fbbe18c8d6>:1: FutureWarning: The frame.append method is deprecated and will be removed from pandas in a future version. Use pandas.concat instead.\n",
      "  news_quotes = pdr.data.DataReader(news, 'moex', start='2017-09-01', end='2019-09-01')\n",
      "<ipython-input-7-b0fbbe18c8d6>:1: FutureWarning: The frame.append method is deprecated and will be removed from pandas in a future version. Use pandas.concat instead.\n",
      "  news_quotes = pdr.data.DataReader(news, 'moex', start='2017-09-01', end='2019-09-01')\n",
      "<ipython-input-7-b0fbbe18c8d6>:1: FutureWarning: The frame.append method is deprecated and will be removed from pandas in a future version. Use pandas.concat instead.\n",
      "  news_quotes = pdr.data.DataReader(news, 'moex', start='2017-09-01', end='2019-09-01')\n",
      "<ipython-input-7-b0fbbe18c8d6>:1: FutureWarning: The frame.append method is deprecated and will be removed from pandas in a future version. Use pandas.concat instead.\n",
      "  news_quotes = pdr.data.DataReader(news, 'moex', start='2017-09-01', end='2019-09-01')\n"
     ]
    },
    {
     "name": "stderr",
     "output_type": "stream",
     "text": [
      "<ipython-input-7-b0fbbe18c8d6>:1: FutureWarning: The frame.append method is deprecated and will be removed from pandas in a future version. Use pandas.concat instead.\n",
      "  news_quotes = pdr.data.DataReader(news, 'moex', start='2017-09-01', end='2019-09-01')\n",
      "<ipython-input-7-b0fbbe18c8d6>:1: FutureWarning: The frame.append method is deprecated and will be removed from pandas in a future version. Use pandas.concat instead.\n",
      "  news_quotes = pdr.data.DataReader(news, 'moex', start='2017-09-01', end='2019-09-01')\n",
      "<ipython-input-7-b0fbbe18c8d6>:1: FutureWarning: The frame.append method is deprecated and will be removed from pandas in a future version. Use pandas.concat instead.\n",
      "  news_quotes = pdr.data.DataReader(news, 'moex', start='2017-09-01', end='2019-09-01')\n",
      "<ipython-input-7-b0fbbe18c8d6>:1: FutureWarning: The frame.append method is deprecated and will be removed from pandas in a future version. Use pandas.concat instead.\n",
      "  news_quotes = pdr.data.DataReader(news, 'moex', start='2017-09-01', end='2019-09-01')\n",
      "<ipython-input-7-b0fbbe18c8d6>:1: FutureWarning: The frame.append method is deprecated and will be removed from pandas in a future version. Use pandas.concat instead.\n",
      "  news_quotes = pdr.data.DataReader(news, 'moex', start='2017-09-01', end='2019-09-01')\n",
      "<ipython-input-7-b0fbbe18c8d6>:1: FutureWarning: The frame.append method is deprecated and will be removed from pandas in a future version. Use pandas.concat instead.\n",
      "  news_quotes = pdr.data.DataReader(news, 'moex', start='2017-09-01', end='2019-09-01')\n",
      "<ipython-input-7-b0fbbe18c8d6>:1: FutureWarning: The frame.append method is deprecated and will be removed from pandas in a future version. Use pandas.concat instead.\n",
      "  news_quotes = pdr.data.DataReader(news, 'moex', start='2017-09-01', end='2019-09-01')\n",
      "<ipython-input-7-b0fbbe18c8d6>:1: FutureWarning: The frame.append method is deprecated and will be removed from pandas in a future version. Use pandas.concat instead.\n",
      "  news_quotes = pdr.data.DataReader(news, 'moex', start='2017-09-01', end='2019-09-01')\n",
      "<ipython-input-7-b0fbbe18c8d6>:1: FutureWarning: The frame.append method is deprecated and will be removed from pandas in a future version. Use pandas.concat instead.\n",
      "  news_quotes = pdr.data.DataReader(news, 'moex', start='2017-09-01', end='2019-09-01')\n",
      "<ipython-input-7-b0fbbe18c8d6>:1: FutureWarning: The frame.append method is deprecated and will be removed from pandas in a future version. Use pandas.concat instead.\n",
      "  news_quotes = pdr.data.DataReader(news, 'moex', start='2017-09-01', end='2019-09-01')\n",
      "<ipython-input-7-b0fbbe18c8d6>:1: FutureWarning: The frame.append method is deprecated and will be removed from pandas in a future version. Use pandas.concat instead.\n",
      "  news_quotes = pdr.data.DataReader(news, 'moex', start='2017-09-01', end='2019-09-01')\n",
      "<ipython-input-7-b0fbbe18c8d6>:1: FutureWarning: The frame.append method is deprecated and will be removed from pandas in a future version. Use pandas.concat instead.\n",
      "  news_quotes = pdr.data.DataReader(news, 'moex', start='2017-09-01', end='2019-09-01')\n",
      "<ipython-input-7-b0fbbe18c8d6>:1: FutureWarning: The frame.append method is deprecated and will be removed from pandas in a future version. Use pandas.concat instead.\n",
      "  news_quotes = pdr.data.DataReader(news, 'moex', start='2017-09-01', end='2019-09-01')\n",
      "<ipython-input-7-b0fbbe18c8d6>:1: FutureWarning: The frame.append method is deprecated and will be removed from pandas in a future version. Use pandas.concat instead.\n",
      "  news_quotes = pdr.data.DataReader(news, 'moex', start='2017-09-01', end='2019-09-01')\n"
     ]
    }
   ],
   "source": [
    "news_quotes = pdr.data.DataReader(news, 'moex', start='2017-09-01', end='2019-09-01')"
   ]
  },
  {
   "cell_type": "markdown",
   "metadata": {},
   "source": [
    "Преобразование в нужный для EfficientFrontier формат"
   ]
  },
  {
   "cell_type": "code",
   "execution_count": 8,
   "metadata": {},
   "outputs": [],
   "source": [
    "news_stocks = news_quotes.pivot_table(index='TRADEDATE', columns='SECID', values='CLOSE') #преобразование датафрейма"
   ]
  },
  {
   "cell_type": "code",
   "execution_count": 9,
   "metadata": {},
   "outputs": [
    {
     "data": {
      "text/plain": [
       "Index(['AFKS', 'AFLT', 'AGRO', 'ALRS', 'BELU', 'CHMF', 'FEES', 'FIVE', 'GAZP',\n",
       "       'GMKN', 'HYDR', 'LIFE', 'LKOH', 'MGNT', 'MTLR', 'MTSS', 'MVID', 'NLMK',\n",
       "       'NVTK', 'PHOR', 'PIKK', 'PLZL', 'POLY', 'ROSN', 'RTKM', 'RUAL', 'SBER',\n",
       "       'SELG', 'SNGS', 'SNGSP', 'SU26207RMFS9', 'SU26212RMFS9', 'SU26218RMFS6',\n",
       "       'SU26219RMFS4', 'SU26221RMFS0', 'SU26224RMFS4', 'SU26225RMFS1',\n",
       "       'SU26226RMFS9', 'SU26228RMFS5', 'SU26229RMFS3', 'SU26230RMFS1', 'TATN',\n",
       "       'UPRO', 'VTBR', 'YNDX'],\n",
       "      dtype='object', name='SECID')"
      ]
     },
     "execution_count": 9,
     "metadata": {},
     "output_type": "execute_result"
    }
   ],
   "source": [
    "news_stocks.columns"
   ]
  },
  {
   "cell_type": "code",
   "execution_count": 10,
   "metadata": {},
   "outputs": [
    {
     "data": {
      "text/html": [
       "<div>\n",
       "<style scoped>\n",
       "    .dataframe tbody tr th:only-of-type {\n",
       "        vertical-align: middle;\n",
       "    }\n",
       "\n",
       "    .dataframe tbody tr th {\n",
       "        vertical-align: top;\n",
       "    }\n",
       "\n",
       "    .dataframe thead th {\n",
       "        text-align: right;\n",
       "    }\n",
       "</style>\n",
       "<table border=\"1\" class=\"dataframe\">\n",
       "  <thead>\n",
       "    <tr style=\"text-align: right;\">\n",
       "      <th>SECID</th>\n",
       "      <th>AFKS</th>\n",
       "      <th>AFLT</th>\n",
       "      <th>AGRO</th>\n",
       "      <th>ALRS</th>\n",
       "      <th>BELU</th>\n",
       "      <th>CHMF</th>\n",
       "      <th>FEES</th>\n",
       "      <th>FIVE</th>\n",
       "      <th>GAZP</th>\n",
       "      <th>GMKN</th>\n",
       "      <th>...</th>\n",
       "      <th>SU26224RMFS4</th>\n",
       "      <th>SU26225RMFS1</th>\n",
       "      <th>SU26226RMFS9</th>\n",
       "      <th>SU26228RMFS5</th>\n",
       "      <th>SU26229RMFS3</th>\n",
       "      <th>SU26230RMFS1</th>\n",
       "      <th>TATN</th>\n",
       "      <th>UPRO</th>\n",
       "      <th>VTBR</th>\n",
       "      <th>YNDX</th>\n",
       "    </tr>\n",
       "    <tr>\n",
       "      <th>TRADEDATE</th>\n",
       "      <th></th>\n",
       "      <th></th>\n",
       "      <th></th>\n",
       "      <th></th>\n",
       "      <th></th>\n",
       "      <th></th>\n",
       "      <th></th>\n",
       "      <th></th>\n",
       "      <th></th>\n",
       "      <th></th>\n",
       "      <th></th>\n",
       "      <th></th>\n",
       "      <th></th>\n",
       "      <th></th>\n",
       "      <th></th>\n",
       "      <th></th>\n",
       "      <th></th>\n",
       "      <th></th>\n",
       "      <th></th>\n",
       "      <th></th>\n",
       "      <th></th>\n",
       "    </tr>\n",
       "  </thead>\n",
       "  <tbody>\n",
       "    <tr>\n",
       "      <th>2017-09-01</th>\n",
       "      <td>11.955</td>\n",
       "      <td>190.00</td>\n",
       "      <td>699.0</td>\n",
       "      <td>78.95</td>\n",
       "      <td>602.0</td>\n",
       "      <td>894.9</td>\n",
       "      <td>0.17735</td>\n",
       "      <td>NaN</td>\n",
       "      <td>117.40</td>\n",
       "      <td>9803.0</td>\n",
       "      <td>...</td>\n",
       "      <td>NaN</td>\n",
       "      <td>NaN</td>\n",
       "      <td>NaN</td>\n",
       "      <td>NaN</td>\n",
       "      <td>NaN</td>\n",
       "      <td>NaN</td>\n",
       "      <td>386.15</td>\n",
       "      <td>2.370</td>\n",
       "      <td>0.06345</td>\n",
       "      <td>1820.0</td>\n",
       "    </tr>\n",
       "    <tr>\n",
       "      <th>2017-09-04</th>\n",
       "      <td>12.545</td>\n",
       "      <td>193.25</td>\n",
       "      <td>690.0</td>\n",
       "      <td>77.00</td>\n",
       "      <td>610.0</td>\n",
       "      <td>904.5</td>\n",
       "      <td>0.17615</td>\n",
       "      <td>NaN</td>\n",
       "      <td>117.00</td>\n",
       "      <td>9746.0</td>\n",
       "      <td>...</td>\n",
       "      <td>NaN</td>\n",
       "      <td>NaN</td>\n",
       "      <td>NaN</td>\n",
       "      <td>NaN</td>\n",
       "      <td>NaN</td>\n",
       "      <td>NaN</td>\n",
       "      <td>385.40</td>\n",
       "      <td>2.350</td>\n",
       "      <td>0.06163</td>\n",
       "      <td>1833.0</td>\n",
       "    </tr>\n",
       "    <tr>\n",
       "      <th>2017-09-05</th>\n",
       "      <td>13.645</td>\n",
       "      <td>200.75</td>\n",
       "      <td>688.0</td>\n",
       "      <td>78.20</td>\n",
       "      <td>605.0</td>\n",
       "      <td>894.0</td>\n",
       "      <td>0.17295</td>\n",
       "      <td>NaN</td>\n",
       "      <td>116.00</td>\n",
       "      <td>9692.0</td>\n",
       "      <td>...</td>\n",
       "      <td>NaN</td>\n",
       "      <td>NaN</td>\n",
       "      <td>NaN</td>\n",
       "      <td>NaN</td>\n",
       "      <td>NaN</td>\n",
       "      <td>NaN</td>\n",
       "      <td>386.00</td>\n",
       "      <td>2.319</td>\n",
       "      <td>0.06010</td>\n",
       "      <td>1863.0</td>\n",
       "    </tr>\n",
       "    <tr>\n",
       "      <th>2017-09-06</th>\n",
       "      <td>14.095</td>\n",
       "      <td>199.65</td>\n",
       "      <td>703.0</td>\n",
       "      <td>78.65</td>\n",
       "      <td>618.0</td>\n",
       "      <td>911.7</td>\n",
       "      <td>0.17260</td>\n",
       "      <td>NaN</td>\n",
       "      <td>117.14</td>\n",
       "      <td>9825.0</td>\n",
       "      <td>...</td>\n",
       "      <td>NaN</td>\n",
       "      <td>NaN</td>\n",
       "      <td>NaN</td>\n",
       "      <td>NaN</td>\n",
       "      <td>NaN</td>\n",
       "      <td>NaN</td>\n",
       "      <td>392.50</td>\n",
       "      <td>2.310</td>\n",
       "      <td>0.06020</td>\n",
       "      <td>1843.0</td>\n",
       "    </tr>\n",
       "    <tr>\n",
       "      <th>2017-09-07</th>\n",
       "      <td>13.815</td>\n",
       "      <td>197.05</td>\n",
       "      <td>709.0</td>\n",
       "      <td>78.50</td>\n",
       "      <td>NaN</td>\n",
       "      <td>905.0</td>\n",
       "      <td>0.17100</td>\n",
       "      <td>NaN</td>\n",
       "      <td>117.95</td>\n",
       "      <td>9660.0</td>\n",
       "      <td>...</td>\n",
       "      <td>NaN</td>\n",
       "      <td>NaN</td>\n",
       "      <td>NaN</td>\n",
       "      <td>NaN</td>\n",
       "      <td>NaN</td>\n",
       "      <td>NaN</td>\n",
       "      <td>389.40</td>\n",
       "      <td>2.294</td>\n",
       "      <td>0.06010</td>\n",
       "      <td>1820.0</td>\n",
       "    </tr>\n",
       "  </tbody>\n",
       "</table>\n",
       "<p>5 rows × 45 columns</p>\n",
       "</div>"
      ],
      "text/plain": [
       "SECID         AFKS    AFLT   AGRO   ALRS   BELU   CHMF     FEES  FIVE    GAZP  \\\n",
       "TRADEDATE                                                                       \n",
       "2017-09-01  11.955  190.00  699.0  78.95  602.0  894.9  0.17735   NaN  117.40   \n",
       "2017-09-04  12.545  193.25  690.0  77.00  610.0  904.5  0.17615   NaN  117.00   \n",
       "2017-09-05  13.645  200.75  688.0  78.20  605.0  894.0  0.17295   NaN  116.00   \n",
       "2017-09-06  14.095  199.65  703.0  78.65  618.0  911.7  0.17260   NaN  117.14   \n",
       "2017-09-07  13.815  197.05  709.0  78.50    NaN  905.0  0.17100   NaN  117.95   \n",
       "\n",
       "SECID         GMKN  ...  SU26224RMFS4  SU26225RMFS1  SU26226RMFS9  \\\n",
       "TRADEDATE           ...                                             \n",
       "2017-09-01  9803.0  ...           NaN           NaN           NaN   \n",
       "2017-09-04  9746.0  ...           NaN           NaN           NaN   \n",
       "2017-09-05  9692.0  ...           NaN           NaN           NaN   \n",
       "2017-09-06  9825.0  ...           NaN           NaN           NaN   \n",
       "2017-09-07  9660.0  ...           NaN           NaN           NaN   \n",
       "\n",
       "SECID       SU26228RMFS5  SU26229RMFS3  SU26230RMFS1    TATN   UPRO     VTBR  \\\n",
       "TRADEDATE                                                                      \n",
       "2017-09-01           NaN           NaN           NaN  386.15  2.370  0.06345   \n",
       "2017-09-04           NaN           NaN           NaN  385.40  2.350  0.06163   \n",
       "2017-09-05           NaN           NaN           NaN  386.00  2.319  0.06010   \n",
       "2017-09-06           NaN           NaN           NaN  392.50  2.310  0.06020   \n",
       "2017-09-07           NaN           NaN           NaN  389.40  2.294  0.06010   \n",
       "\n",
       "SECID         YNDX  \n",
       "TRADEDATE           \n",
       "2017-09-01  1820.0  \n",
       "2017-09-04  1833.0  \n",
       "2017-09-05  1863.0  \n",
       "2017-09-06  1843.0  \n",
       "2017-09-07  1820.0  \n",
       "\n",
       "[5 rows x 45 columns]"
      ]
     },
     "execution_count": 10,
     "metadata": {},
     "output_type": "execute_result"
    }
   ],
   "source": [
    "news_stocks.head()"
   ]
  },
  {
   "cell_type": "code",
   "execution_count": 11,
   "metadata": {},
   "outputs": [
    {
     "name": "stderr",
     "output_type": "stream",
     "text": [
      "c:\\users\\vbadmaev1\\appdata\\local\\programs\\python\\python39\\lib\\site-packages\\pypfopt\\risk_models.py:70: UserWarning: The covariance matrix is non positive semidefinite. Amending eigenvalues.\n",
      "  warnings.warn(\n"
     ]
    },
    {
     "name": "stdout",
     "output_type": "stream",
     "text": [
      "Expected annual return: 18.8%\n",
      "Annual volatility: 7.8%\n",
      "Sharpe Ratio: 2.16\n",
      "{'AFKS': 86, 'AFLT': 9, 'AGRO': 1, 'ALRS': 13, 'BELU': 2, 'CHMF': 1, 'FEES': 5624, 'GAZP': 13, 'HYDR': 1816, 'LIFE': 212, 'LKOH': 1, 'MTLR': 17, 'MTSS': 4, 'MVID': 2, 'NLMK': 7, 'NVTK': 10, 'PIKK': 3, 'POLY': 1, 'ROSN': 3, 'RTKM': 12, 'RUAL': 38, 'SBER': 4, 'SELG': 107, 'SNGS': 36, 'SNGSP': 31, 'SU26207RMFS9': 9, 'SU26212RMFS9': 10, 'SU26218RMFS6': 9, 'SU26219RMFS4': 10, 'SU26221RMFS0': 10, 'SU26224RMFS4': 10, 'SU26225RMFS1': 10, 'SU26226RMFS9': 10, 'SU26228RMFS5': 379, 'SU26229RMFS3': 10, 'SU26230RMFS1': 9, 'TATN': 1, 'UPRO': 367, 'VTBR': 25804}\n",
      "Осталось денежных средств после построения портфеля с максимальным коэффициентом Шарпа - 4497.09 рублей\n",
      "Ожидаемая доходность портфеля: 18.79%\n",
      "Волатильность портфеля: 7.76%\n",
      "Коэффициент Шарпа портфеля: 2.1640\n"
     ]
    },
    {
     "name": "stderr",
     "output_type": "stream",
     "text": [
      "c:\\users\\vbadmaev1\\appdata\\local\\programs\\python\\python39\\lib\\site-packages\\cvxpy\\problems\\problem.py:1403: UserWarning: Solution may be inaccurate. Try another solver, adjusting the solver settings, or solve with verbose=True for more information.\n",
      "  warnings.warn(\n"
     ]
    }
   ],
   "source": [
    "mu_shares = expected_returns.mean_historical_return(news_stocks)\n",
    "Sigma_shares = risk_models.sample_cov(news_stocks)\n",
    "\n",
    "efficient_frontier = EfficientFrontier(mu_shares, Sigma_shares, weight_bounds=(0.01, 1)) #минимальный вес 0,01\n",
    "\n",
    "max_sharpe = efficient_frontier.max_sharpe()\n",
    "\n",
    "max_sharpe_pwt = efficient_frontier.clean_weights()\n",
    "\n",
    "latest_prices = get_latest_prices(news_stocks)\n",
    "\n",
    "allocation_max_sharpe, rem_max_sharpe = DiscreteAllocation(max_sharpe_pwt, latest_prices, total_portfolio_value=100000).lp_portfolio()\n",
    "\n",
    "expected_return, volatility, sharpe_ratio = efficient_frontier.portfolio_performance(verbose=True)\n",
    "\n",
    "print(allocation_max_sharpe)\n",
    "print(\"Осталось денежных средств после построения портфеля с максимальным коэффициентом Шарпа - {:.2f} рублей\".format(rem_max_sharpe))\n",
    "print(\"Ожидаемая доходность портфеля: {:.2%}\".format(expected_return))\n",
    "print(\"Волатильность портфеля: {:.2%}\".format(volatility))\n",
    "print(\"Коэффициент Шарпа портфеля: {:.4f}\".format(sharpe_ratio))"
   ]
  },
  {
   "cell_type": "code",
   "execution_count": 12,
   "metadata": {},
   "outputs": [
    {
     "data": {
      "text/plain": [
       "{'AFKS': 86,\n",
       " 'AFLT': 9,\n",
       " 'AGRO': 1,\n",
       " 'ALRS': 13,\n",
       " 'BELU': 2,\n",
       " 'CHMF': 1,\n",
       " 'FEES': 5624,\n",
       " 'GAZP': 13,\n",
       " 'HYDR': 1816,\n",
       " 'LIFE': 212,\n",
       " 'LKOH': 1,\n",
       " 'MTLR': 17,\n",
       " 'MTSS': 4,\n",
       " 'MVID': 2,\n",
       " 'NLMK': 7,\n",
       " 'NVTK': 10,\n",
       " 'PIKK': 3,\n",
       " 'POLY': 1,\n",
       " 'ROSN': 3,\n",
       " 'RTKM': 12,\n",
       " 'RUAL': 38,\n",
       " 'SBER': 4,\n",
       " 'SELG': 107,\n",
       " 'SNGS': 36,\n",
       " 'SNGSP': 31,\n",
       " 'SU26207RMFS9': 9,\n",
       " 'SU26212RMFS9': 10,\n",
       " 'SU26218RMFS6': 9,\n",
       " 'SU26219RMFS4': 10,\n",
       " 'SU26221RMFS0': 10,\n",
       " 'SU26224RMFS4': 10,\n",
       " 'SU26225RMFS1': 10,\n",
       " 'SU26226RMFS9': 10,\n",
       " 'SU26228RMFS5': 379,\n",
       " 'SU26229RMFS3': 10,\n",
       " 'SU26230RMFS1': 9,\n",
       " 'TATN': 1,\n",
       " 'UPRO': 367,\n",
       " 'VTBR': 25804}"
      ]
     },
     "execution_count": 12,
     "metadata": {},
     "output_type": "execute_result"
    }
   ],
   "source": [
    "allocation_max_sharpe"
   ]
  },
  {
   "cell_type": "code",
   "execution_count": 13,
   "metadata": {},
   "outputs": [
    {
     "name": "stdout",
     "output_type": "stream",
     "text": [
      "OrderedDict([('AFKS', 0.01), ('AFLT', 0.01), ('AGRO', 0.01), ('ALRS', 0.01), ('BELU', 0.01), ('CHMF', 0.01), ('FEES', 0.01), ('FIVE', 0.01), ('GAZP', 0.02909), ('GMKN', 0.01), ('HYDR', 0.01), ('LIFE', 0.01), ('LKOH', 0.04226), ('MGNT', 0.01), ('MTLR', 0.01), ('MTSS', 0.01), ('MVID', 0.01), ('NLMK', 0.01), ('NVTK', 0.12367), ('PHOR', 0.01), ('PIKK', 0.01), ('PLZL', 0.01), ('POLY', 0.01), ('ROSN', 0.01), ('RTKM', 0.01), ('RUAL', 0.01), ('SBER', 0.01), ('SELG', 0.01), ('SNGS', 0.01), ('SNGSP', 0.01), ('SU26207RMFS9', 0.01), ('SU26212RMFS9', 0.01), ('SU26218RMFS6', 0.01), ('SU26219RMFS4', 0.01), ('SU26221RMFS0', 0.01), ('SU26224RMFS4', 0.01), ('SU26225RMFS1', 0.01), ('SU26226RMFS9', 0.01), ('SU26228RMFS5', 0.39498), ('SU26229RMFS3', 0.01), ('SU26230RMFS1', 0.01), ('TATN', 0.01), ('UPRO', 0.01), ('VTBR', 0.01), ('YNDX', 0.01)])\n"
     ]
    }
   ],
   "source": [
    "print(max_sharpe_pwt)"
   ]
  },
  {
   "cell_type": "markdown",
   "metadata": {},
   "source": [
    "Визуализация (сырая) по распределению весов инвестиционного портфеля"
   ]
  },
  {
   "cell_type": "code",
   "execution_count": 16,
   "metadata": {},
   "outputs": [
    {
     "data": {
      "image/png": "[encoded data removed]",
      "text/plain": [
       "<Figure size 720x720 with 1 Axes>"
      ]
     },
     "metadata": {},
     "output_type": "display_data"
    }
   ],
   "source": [
    "import matplotlib.pyplot as plt\n",
    "\n",
    "labels = list(max_sharpe_pwt.keys())\n",
    "values = list(max_sharpe_pwt.values())\n",
    "\n",
    "fig, ax = plt.subplots(figsize=(10, 10))\n",
    "ax.pie(values, autopct='%1.1f%%', startangle=140, wedgeprops=dict(width=0.4), shadow=True)\n",
    "ax.set_title('Asset Allocation - Max Sharpe Portfolio')\n",
    "\n",
    "plt.show()"
   ]
  }
 ],
 "metadata": {
  "kernelspec": {
   "display_name": "Python 3",
   "language": "python",
   "name": "python3"
  },
  "language_info": {
   "codemirror_mode": {
    "name": "ipython",
    "version": 3
   },
   "file_extension": ".py",
   "mimetype": "text/x-python",
   "name": "python",
   "nbconvert_exporter": "python",
   "pygments_lexer": "ipython3",
   "version": "3.9.0"
  }
 },
 "nbformat": 4,
 "nbformat_minor": 4
}
